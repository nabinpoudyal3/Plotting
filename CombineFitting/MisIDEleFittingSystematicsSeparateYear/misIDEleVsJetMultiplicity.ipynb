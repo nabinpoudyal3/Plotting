{
 "cells": [
  {
   "cell_type": "code",
   "execution_count": 22,
   "metadata": {},
   "outputs": [
    {
     "name": "stdout",
     "output_type": "stream",
     "text": [
      "/uscms_data/d3/npoudyal/TTGammaSemiLeptonic13TeV/Plotting/CombineFitting/MisIDEleFittingSystematicsSeparateYear\r\n"
     ]
    }
   ],
   "source": [
    "import ROOT\n",
    "import numpy as np\n",
    "from matplotlib import pyplot as plt\n",
    "!pwd"
   ]
  },
  {
   "cell_type": "code",
   "execution_count": 23,
   "metadata": {},
   "outputs": [],
   "source": [
    "ListOfFiles2016 = [\"fitDiagnosticsCR123_2016.root\", \"fitDiagnosticsCR1_2016.root\",  \"fitDiagnosticsCR2_2016.root\", \"fitDiagnosticsCR3_2016.root\"]#,\"fitDiagnosticsCR4_2016.root\"]\n",
    "ListOfFiles2017 = [\"fitDiagnosticsCR123_2017.root\", \"fitDiagnosticsCR1_2017.root\",  \"fitDiagnosticsCR2_2017.root\", \"fitDiagnosticsCR3_2017.root\"]#,\"fitDiagnosticsCR4_2017.root\"]\n",
    "ListOfFiles2018 = [\"fitDiagnosticsCR123_2018.root\", \"fitDiagnosticsCR1_2018.root\",  \"fitDiagnosticsCR2_2018.root\", \"fitDiagnosticsCR3_2018.root\"]#,\"fitDiagnosticsCR4_2018.root\"]\n"
   ]
  },
  {
   "cell_type": "code",
   "execution_count": 24,
   "metadata": {},
   "outputs": [],
   "source": [
    "controlRegionDict ={\"SR8\":\"tight\", \"CR123\":\"looseCRge2e0\", \"AR\":\"looseCRge2ge0\", \"CR7\":\"looseCRe3ge2\", \"CR3\":\"looseCRge4e0\", \"CR2\":\"looseCRe3e0\", \n",
    "\t\t\t\t   \"CR4\":\"looseCRe2e1\", \"CR1\":\"looseCRe2e0\", \"CR6\":\"looseCRe2e2\", \"CR5\":\"looseCRe3e1\" }\n",
    "\n",
    "\n",
    "CRDictMisID ={\"SR8\":\"misIDsfSReight\", \"CR123\":\"misIDsfCRall\", \"CR7\":\"misIDsfCRseven\", \"CR3\":\"misIDsfCRthree\", \"CR2\":\"misIDsfCRtwo\", \n",
    "\t\t \"CR4\":\"misIDsfCRfour\", \"CR1\":\"misIDsfCRone\", \"CR6\":\"misIDsfCRsix\", \"CR5\":\"misIDsfCRfive\" }\n",
    "\n",
    "CRDictZGamma ={\"SR8\":\"zGammasfSReight\", \"CR123\":\"zGammasfCRall\", \"CR7\":\"zGammasfCRseven\", \"CR3\":\"zGammasfCRthree\", \"CR2\":\"zGammasfCRtwo\", \n",
    "\t\t \"CR4\":\"zGammasfCRfour\", \"CR1\":\"zGammasfCRone\", \"CR6\":\"zGammasfCRsix\", \"CR5\":\"zGammasfCRfive\" }\n",
    "\n",
    "CRDictWGamma ={\"SR8\":\"wGammasfSReight\", \"CR123\":\"wGammasfCRall\", \"CR7\":\"wGammasfCRseven\", \"CR3\":\"wGammasfCRthree\", \"CR2\":\"wGammasfCRtwo\", \n",
    "\t\t \"CR4\":\"wGammasfCRfour\", \"CR1\":\"wGammasfCRone\", \"CR6\":\"wGammasfCRsix\", \"CR5\":\"wGammasfCRfive\" }"
   ]
  },
  {
   "cell_type": "code",
   "execution_count": 25,
   "metadata": {},
   "outputs": [
    {
     "data": {
      "image/png": "[encoded data removed]",
      "text/plain": [
       "<matplotlib.figure.Figure at 0x7fc28d129210>"
      ]
     },
     "metadata": {},
     "output_type": "display_data"
    }
   ],
   "source": [
    "# x = [2, 3, 4, 5,]\n",
    "# myCR = [\"N>=2,NB=0\", \"N=2,NB=0\", \"N=3,NB=0\", \"N>=4,NB=0\", \"N=2,NB=1\"]\n",
    "x = [2, 3, 4, 5]\n",
    "myCR = [\"N>=2,NB=0\", \"N=2,NB=0\", \"N=3,NB=0\", \"N>=4,NB=0\"]\n",
    "y =[]\n",
    "yerrUp = []\n",
    "yerrDo = []\n",
    "for ifile in ListOfFiles2016:\n",
    "    myfile = ROOT.TFile(ifile,\"read\")\n",
    "    if myfile.GetListOfKeys().Contains(\"fit_s\") is False:\n",
    "        print ifile[14:-10], \": Fit failed.\"\n",
    "        continue\n",
    "    fit_s = myfile.Get(\"fit_s\")\n",
    "    y.append(fit_s.floatParsFinal().find(\"r\").getVal())\n",
    "    yerrUp.append(fit_s.floatParsFinal().find(\"r\").getErrorHi())\n",
    "    yerrDo.append(fit_s.floatParsFinal().find(\"r\").getErrorLo())\n",
    "#     print fit_s.floatParsFinal().find(\"r\").getVal(),fit_s.floatParsFinal().find(\"r\").getErrorHi(),fit_s.floatParsFinal().find(\"r\").getErrorLo()\n",
    "#     print fit_s.floatParsFinal().find(\"ZGammaBkgPhotonSF\").getVal(),fit_s.floatParsFinal().find(\"r\").getErrorLo(),fit_s.floatParsFinal().find(\"ZGammaBkgPhotonSF\").getErrorHi()\n",
    "#     print fit_s.floatParsFinal().find(\"WGammaBkgPhotonSF\").getVal(),fit_s.floatParsFinal().find(\"r\").getErrorLo(),fit_s.floatParsFinal().find(\"WGammaBkgPhotonSF\").getErrorHi()\n",
    "fig = plt.figure()\n",
    "plt.errorbar(x, y, yerr=yerrUp, fmt='o')\n",
    "plt.xticks(x, myCR)\n",
    "plt.tick_params(axis='x', which='major', labelsize=10)\n",
    "plt.xlim(1,6)\n",
    "plt.ylim(1,6)\n",
    "plt.tight_layout()\n",
    "plt.grid()\n",
    "plt.ylabel('MisIDEle sf for 2016')\n",
    "plt.xlabel('Jet multipicity')\n",
    "plt.title('')\n",
    "plt.show()\n",
    "fig.savefig('M16.pdf', bbox_inches=\"tight\", dpi=1200)"
   ]
  },
  {
   "cell_type": "code",
   "execution_count": 26,
   "metadata": {},
   "outputs": [
    {
     "data": {
      "image/png": "[encoded data removed]",
      "text/plain": [
       "<matplotlib.figure.Figure at 0x7fc28d0dc590>"
      ]
     },
     "metadata": {},
     "output_type": "display_data"
    }
   ],
   "source": [
    "x = [2, 3, 4, 5]\n",
    "myCR = [\"N>=2,NB=0\", \"N=2,NB=0\", \"N=3,NB=0\", \"N>=4,NB=0\"]\n",
    "\n",
    "y =[]\n",
    "yerrUp = []\n",
    "yerrDo = []\n",
    "for ifile in ListOfFiles2017:\n",
    "    myfile = ROOT.TFile(ifile,\"read\")\n",
    "    if myfile.GetListOfKeys().Contains(\"fit_s\") is False:\n",
    "        print ifile[14:-10], \": Fit failed.\"\n",
    "        continue\n",
    "    fit_s = myfile.Get(\"fit_s\")\n",
    "    y.append(fit_s.floatParsFinal().find(\"r\").getVal())\n",
    "    yerrUp.append(fit_s.floatParsFinal().find(\"r\").getErrorHi())\n",
    "    yerrDo.append(fit_s.floatParsFinal().find(\"r\").getErrorLo())\n",
    "#     print fit_s.floatParsFinal().find(\"r\").getVal(),fit_s.floatParsFinal().find(\"r\").getErrorHi(),fit_s.floatParsFinal().find(\"r\").getErrorLo()\n",
    "#     print fit_s.floatParsFinal().find(\"ZGammaBkgPhotonSF\").getVal(),fit_s.floatParsFinal().find(\"r\").getErrorLo(),fit_s.floatParsFinal().find(\"ZGammaBkgPhotonSF\").getErrorHi()\n",
    "#     print fit_s.floatParsFinal().find(\"WGammaBkgPhotonSF\").getVal(),fit_s.floatParsFinal().find(\"r\").getErrorLo(),fit_s.floatParsFinal().find(\"WGammaBkgPhotonSF\").getErrorHi()\n",
    "fig = plt.figure()\n",
    "plt.errorbar(x, y, yerr=yerrUp, fmt='o')\n",
    "plt.xticks(x, myCR)\n",
    "plt.tick_params(axis='x', which='major', labelsize=10)\n",
    "plt.xlim(1,6)\n",
    "plt.ylim(1,6)\n",
    "plt.tight_layout()\n",
    "plt.grid()\n",
    "plt.ylabel('MisIDEle sf for 2017')\n",
    "plt.xlabel('Jet multipicity')\n",
    "plt.title('')\n",
    "plt.show()\n",
    "fig.savefig('M17.pdf', bbox_inches=\"tight\", dpi=1200)"
   ]
  },
  {
   "cell_type": "code",
   "execution_count": 27,
   "metadata": {},
   "outputs": [
    {
     "data": {
      "image/png": "[encoded data removed]",
      "text/plain": [
       "<matplotlib.figure.Figure at 0x7fc28d129d10>"
      ]
     },
     "metadata": {},
     "output_type": "display_data"
    }
   ],
   "source": [
    "x = [2, 3, 4, 5]\n",
    "myCR = [\"N>=2,NB=0\", \"N=2,NB=0\", \"N=3,NB=0\", \"N>=4,NB=0\"]\n",
    "y =[]\n",
    "yerrUp = []\n",
    "yerrDo = []\n",
    "for ifile in ListOfFiles2018:\n",
    "    myfile = ROOT.TFile(ifile,\"read\")\n",
    "    if myfile.GetListOfKeys().Contains(\"fit_s\") is False:\n",
    "        print ifile[14:-10], \": Fit failed.\"\n",
    "        continue\n",
    "    fit_s = myfile.Get(\"fit_s\")\n",
    "    y.append(fit_s.floatParsFinal().find(\"r\").getVal())\n",
    "    yerrUp.append(fit_s.floatParsFinal().find(\"r\").getErrorHi())\n",
    "    yerrDo.append(fit_s.floatParsFinal().find(\"r\").getErrorLo())\n",
    "#     print fit_s.floatParsFinal().find(\"r\").getVal(),fit_s.floatParsFinal().find(\"r\").getErrorHi(),fit_s.floatParsFinal().find(\"r\").getErrorLo()\n",
    "#     print fit_s.floatParsFinal().find(\"ZGammaBkgPhotonSF\").getVal(),fit_s.floatParsFinal().find(\"r\").getErrorLo(),fit_s.floatParsFinal().find(\"ZGammaBkgPhotonSF\").getErrorHi()\n",
    "#     print fit_s.floatParsFinal().find(\"WGammaBkgPhotonSF\").getVal(),fit_s.floatParsFinal().find(\"r\").getErrorLo(),fit_s.floatParsFinal().find(\"WGammaBkgPhotonSF\").getErrorHi()\n",
    "fig = plt.figure()\n",
    "plt.errorbar(x, y, yerr=yerrUp, fmt='o')\n",
    "plt.xticks(x, myCR)\n",
    "plt.tick_params(axis='x', which='major', labelsize=10)\n",
    "plt.xlim(1,6)\n",
    "plt.ylim(1,6)\n",
    "plt.tight_layout()\n",
    "plt.grid()\n",
    "plt.ylabel('MisIDEle sf for 2018')\n",
    "plt.xlabel('Jet multipicity')\n",
    "plt.title('')\n",
    "plt.show()\n",
    "fig.savefig('M18.pdf', bbox_inches=\"tight\", dpi=1200)"
   ]
  },
  {
   "cell_type": "code",
   "execution_count": null,
   "metadata": {},
   "outputs": [],
   "source": []
  },
  {
   "cell_type": "code",
   "execution_count": null,
   "metadata": {},
   "outputs": [],
   "source": []
  },
  {
   "cell_type": "code",
   "execution_count": null,
   "metadata": {},
   "outputs": [],
   "source": []
  },
  {
   "cell_type": "code",
   "execution_count": null,
   "metadata": {},
   "outputs": [],
   "source": []
  }
 ],
 "metadata": {
  "kernelspec": {
   "display_name": "Python 2",
   "language": "python",
   "name": "python2"
  },
  "language_info": {
   "codemirror_mode": {
    "name": "ipython",
    "version": 2
   },
   "file_extension": ".py",
   "mimetype": "text/x-python",
   "name": "python",
   "nbconvert_exporter": "python",
   "pygments_lexer": "ipython2",
   "version": "2.7.14+"
  }
 },
 "nbformat": 4,
 "nbformat_minor": 2
}
