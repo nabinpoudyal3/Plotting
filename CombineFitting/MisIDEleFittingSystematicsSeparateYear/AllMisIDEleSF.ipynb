{
 "cells": [
  {
   "cell_type": "code",
   "execution_count": 40,
   "metadata": {},
   "outputs": [
    {
     "name": "stdout",
     "output_type": "stream",
     "text": [
      "/uscms_data/d3/npoudyal/TTGammaSemiLeptonic13TeV/Plotting/CombineFitting/MisIDEleFittingSystematicsSeparateYear\r\n"
     ]
    }
   ],
   "source": [
    "import ROOT\n",
    "!pwd"
   ]
  },
  {
   "cell_type": "code",
   "execution_count": 41,
   "metadata": {},
   "outputs": [],
   "source": [
    "ListOfFiles2016 = [\"fitDiagnosticsCR123_2016.root\", \"fitDiagnosticsCR1_2016.root\",  \"fitDiagnosticsCR2_2016.root\", \"fitDiagnosticsCR3_2016.root\"]#,\"fitDiagnosticsCR4_2016.root\"]\n",
    "ListOfFiles2017 = [\"fitDiagnosticsCR123_2017.root\", \"fitDiagnosticsCR1_2017.root\",  \"fitDiagnosticsCR2_2017.root\", \"fitDiagnosticsCR3_2017.root\"]#,\"fitDiagnosticsCR4_2017.root\"]\n",
    "ListOfFiles2018 = [\"fitDiagnosticsCR123_2018.root\", \"fitDiagnosticsCR1_2018.root\",  \"fitDiagnosticsCR2_2018.root\", \"fitDiagnosticsCR3_2018.root\"]#,\"fitDiagnosticsCR4_2018.root\"]\n"
   ]
  },
  {
   "cell_type": "code",
   "execution_count": 42,
   "metadata": {},
   "outputs": [
    {
     "name": "stdout",
     "output_type": "stream",
     "text": [
      "2.50111536891\n",
      "1.20582338198\n",
      "0.899838930267\n"
     ]
    }
   ],
   "source": [
    "myfile = ROOT.TFile(\"fitDiagnosticsCR123_2016.root\",\"read\")\n",
    "fit_s = myfile.Get(\"fit_s\")\n",
    "print fit_s.floatParsFinal().find(\"r\").getVal()\n",
    "print fit_s.floatParsFinal().find(\"WGammaBkgPhotonSF\").getVal()\n",
    "print fit_s.floatParsFinal().find(\"ZGammaBkgPhotonSF\").getVal()"
   ]
  },
  {
   "cell_type": "code",
   "execution_count": 43,
   "metadata": {},
   "outputs": [],
   "source": [
    "controlRegionDict ={\"SR8\":\"tight\", \"CR123\":\"looseCRge2e0\", \"AR\":\"looseCRge2ge0\", \"CR7\":\"looseCRe3ge2\", \"CR3\":\"looseCRge4e0\", \"CR2\":\"looseCRe3e0\", \n",
    "\t\t\t\t   \"CR4\":\"looseCRe2e1\", \"CR1\":\"looseCRe2e0\", \"CR6\":\"looseCRe2e2\", \"CR5\":\"looseCRe3e1\" }\n",
    "\n",
    "\n",
    "CRDictMisID ={\"SR8\":\"misIDsfSReight\", \"CR123\":\"misIDsfCRall\", \"CR7\":\"misIDsfCRseven\", \"CR3\":\"misIDsfCRthree\", \"CR2\":\"misIDsfCRtwo\", \n",
    "\t\t \"CR4\":\"misIDsfCRfour\", \"CR1\":\"misIDsfCRone\", \"CR6\":\"misIDsfCRsix\", \"CR5\":\"misIDsfCRfive\" }\n",
    "\n",
    "CRDictZGamma ={\"SR8\":\"zGammasfSReight\", \"CR123\":\"zGammasfCRall\", \"CR7\":\"zGammasfCRseven\", \"CR3\":\"zGammasfCRthree\", \"CR2\":\"zGammasfCRtwo\", \n",
    "\t\t \"CR4\":\"zGammasfCRfour\", \"CR1\":\"zGammasfCRone\", \"CR6\":\"zGammasfCRsix\", \"CR5\":\"zGammasfCRfive\" }\n",
    "\n",
    "CRDictWGamma ={\"SR8\":\"wGammasfSReight\", \"CR123\":\"wGammasfCRall\", \"CR7\":\"wGammasfCRseven\", \"CR3\":\"wGammasfCRthree\", \"CR2\":\"wGammasfCRtwo\", \n",
    "\t\t \"CR4\":\"wGammasfCRfour\", \"CR1\":\"wGammasfCRone\", \"CR6\":\"wGammasfCRsix\", \"CR5\":\"wGammasfCRfive\" }"
   ]
  },
  {
   "cell_type": "code",
   "execution_count": 44,
   "metadata": {},
   "outputs": [],
   "source": [
    "line = \"\"\n",
    "for ifile in ListOfFiles2016:\n",
    "    myfile = ROOT.TFile(ifile,\"read\")\n",
    "    if myfile.GetListOfKeys().Contains(\"fit_s\") is False:\n",
    "        print ifile[14:-10], \": Fit failed.\"\n",
    "        continue\n",
    "    fit_s = myfile.Get(\"fit_s\")\n",
    "    line += \"MisIDEleSF_2016_%s = %.3f \\n\"%(controlRegionDict[ifile[14:-10]],fit_s.floatParsFinal().find(\"r\").getVal())\n",
    "    line +=   \"ZGammaSF_2016_%s = %.3f \\n\"%(controlRegionDict[ifile[14:-10]],fit_s.floatParsFinal().find(\"ZGammaBkgPhotonSF\").getVal())\n",
    "    line +=   \"WGammaSF_2016_%s = %.3f \\n\"%(controlRegionDict[ifile[14:-10]],fit_s.floatParsFinal().find(\"WGammaBkgPhotonSF\").getVal())\n",
    "\n",
    "for ifile in ListOfFiles2017:\n",
    "    myfile = ROOT.TFile(ifile,\"read\")\n",
    "    if myfile.GetListOfKeys().Contains(\"fit_s\") is False:\n",
    "        print ifile[14:-10], \": Fit failed.\"\n",
    "        continue\n",
    "    fit_s = myfile.Get(\"fit_s\")\n",
    "    line += \"MisIDEleSF_2017_%s = %.3f \\n\"%(controlRegionDict[ifile[14:-10]],fit_s.floatParsFinal().find(\"r\").getVal())\n",
    "    line +=   \"ZGammaSF_2017_%s = %.3f \\n\"%(controlRegionDict[ifile[14:-10]],fit_s.floatParsFinal().find(\"ZGammaBkgPhotonSF\").getVal())\n",
    "    line +=   \"WGammaSF_2017_%s = %.3f \\n\"%(controlRegionDict[ifile[14:-10]],fit_s.floatParsFinal().find(\"WGammaBkgPhotonSF\").getVal())\n",
    "\n",
    "for ifile in ListOfFiles2018:\n",
    "    myfile = ROOT.TFile(ifile,\"read\")\n",
    "    if myfile.GetListOfKeys().Contains(\"fit_s\") is False:\n",
    "        print ifile[14:-10], \": Fit failed.\"\n",
    "        continue\n",
    "    fit_s = myfile.Get(\"fit_s\")\n",
    "    line += \"MisIDEleSF_2018_%s = %.3f \\n\"%(controlRegionDict[ifile[14:-10]],fit_s.floatParsFinal().find(\"r\").getVal())\n",
    "    line +=   \"ZGammaSF_2018_%s = %.3f \\n\"%(controlRegionDict[ifile[14:-10]],fit_s.floatParsFinal().find(\"ZGammaBkgPhotonSF\").getVal())\n",
    "    line +=   \"WGammaSF_2018_%s = %.3f \\n\"%(controlRegionDict[ifile[14:-10]],fit_s.floatParsFinal().find(\"WGammaBkgPhotonSF\").getVal())\n",
    "\n",
    "with open(\"MisIDEleSFvalues.py\",\"w\") as _file:\n",
    "    _file.write(line)\n",
    "\n"
   ]
  },
  {
   "cell_type": "code",
   "execution_count": 45,
   "metadata": {},
   "outputs": [
    {
     "name": "stdout",
     "output_type": "stream",
     "text": [
      "MisIDEleSF_2016_looseCRge2e0 = 2.501 \r\n",
      "ZGammaSF_2016_looseCRge2e0 = 0.900 \r\n",
      "WGammaSF_2016_looseCRge2e0 = 1.206 \r\n",
      "MisIDEleSF_2016_looseCRe2e0 = 2.510 \r\n",
      "ZGammaSF_2016_looseCRe2e0 = 0.866 \r\n",
      "WGammaSF_2016_looseCRe2e0 = 1.213 \r\n",
      "MisIDEleSF_2016_looseCRe3e0 = 2.532 \r\n",
      "ZGammaSF_2016_looseCRe3e0 = 0.889 \r\n",
      "WGammaSF_2016_looseCRe3e0 = 1.199 \r\n",
      "MisIDEleSF_2016_looseCRge4e0 = 2.480 \r\n",
      "ZGammaSF_2016_looseCRge4e0 = 1.330 \r\n",
      "WGammaSF_2016_looseCRge4e0 = 1.262 \r\n",
      "MisIDEleSF_2017_looseCRge2e0 = 2.448 \r\n",
      "ZGammaSF_2017_looseCRge2e0 = 0.929 \r\n",
      "WGammaSF_2017_looseCRge2e0 = 1.223 \r\n",
      "MisIDEleSF_2017_looseCRe2e0 = 2.475 \r\n",
      "ZGammaSF_2017_looseCRe2e0 = 0.915 \r\n",
      "WGammaSF_2017_looseCRe2e0 = 1.171 \r\n",
      "MisIDEleSF_2017_looseCRe3e0 = 2.435 \r\n",
      "ZGammaSF_2017_looseCRe3e0 = 0.892 \r\n",
      "WGammaSF_2017_looseCRe3e0 = 1.344 \r\n",
      "MisIDEleSF_2017_looseCRge4e0 = 3.065 \r\n",
      "ZGammaSF_2017_looseCRge4e0 = 0.903 \r\n",
      "WGammaSF_2017_looseCRge4e0 = 1.664 \r\n",
      "MisIDEleSF_2018_looseCRge2e0 = 1.629 \r\n",
      "ZGammaSF_2018_looseCRge2e0 = 0.808 \r\n",
      "WGammaSF_2018_looseCRge2e0 = 1.277 \r\n",
      "MisIDEleSF_2018_looseCRe2e0 = 1.648 \r\n",
      "ZGammaSF_2018_looseCRe2e0 = 0.798 \r\n",
      "WGammaSF_2018_looseCRe2e0 = 1.253 \r\n",
      "MisIDEleSF_2018_looseCRe3e0 = 1.657 \r\n",
      "ZGammaSF_2018_looseCRe3e0 = 0.785 \r\n",
      "WGammaSF_2018_looseCRe3e0 = 1.362 \r\n",
      "MisIDEleSF_2018_looseCRge4e0 = 1.857 \r\n",
      "ZGammaSF_2018_looseCRge4e0 = 0.343 \r\n",
      "WGammaSF_2018_looseCRge4e0 = 1.719 \r\n"
     ]
    }
   ],
   "source": [
    "!cat MisIDEleSFvalues.py"
   ]
  },
  {
   "cell_type": "code",
   "execution_count": null,
   "metadata": {},
   "outputs": [],
   "source": []
  },
  {
   "cell_type": "code",
   "execution_count": 46,
   "metadata": {},
   "outputs": [
    {
     "name": "stdout",
     "output_type": "stream",
     "text": [
      "MisIDEleSF_2016_looseCRge2e0 = 2.501 \r\n",
      "ZGammaSF_2016_looseCRge2e0 = 0.900 \r\n",
      "WGammaSF_2016_looseCRge2e0 = 1.206 \r\n",
      "MisIDEleSF_2016_looseCRe2e0 = 2.510 \r\n",
      "ZGammaSF_2016_looseCRe2e0 = 0.866 \r\n",
      "WGammaSF_2016_looseCRe2e0 = 1.213 \r\n",
      "MisIDEleSF_2016_looseCRe3e0 = 2.532 \r\n",
      "ZGammaSF_2016_looseCRe3e0 = 0.889 \r\n",
      "WGammaSF_2016_looseCRe3e0 = 1.199 \r\n",
      "MisIDEleSF_2016_looseCRge4e0 = 2.480 \r\n",
      "ZGammaSF_2016_looseCRge4e0 = 1.330 \r\n",
      "WGammaSF_2016_looseCRge4e0 = 1.262 \r\n",
      "MisIDEleSF_2017_looseCRge2e0 = 2.448 \r\n",
      "ZGammaSF_2017_looseCRge2e0 = 0.929 \r\n",
      "WGammaSF_2017_looseCRge2e0 = 1.223 \r\n",
      "MisIDEleSF_2017_looseCRe2e0 = 2.475 \r\n",
      "ZGammaSF_2017_looseCRe2e0 = 0.915 \r\n",
      "WGammaSF_2017_looseCRe2e0 = 1.171 \r\n",
      "MisIDEleSF_2017_looseCRe3e0 = 2.435 \r\n",
      "ZGammaSF_2017_looseCRe3e0 = 0.892 \r\n",
      "WGammaSF_2017_looseCRe3e0 = 1.344 \r\n",
      "MisIDEleSF_2017_looseCRge4e0 = 3.065 \r\n",
      "ZGammaSF_2017_looseCRge4e0 = 0.903 \r\n",
      "WGammaSF_2017_looseCRge4e0 = 1.664 \r\n",
      "MisIDEleSF_2018_looseCRge2e0 = 1.629 \r\n",
      "ZGammaSF_2018_looseCRge2e0 = 0.808 \r\n",
      "WGammaSF_2018_looseCRge2e0 = 1.277 \r\n",
      "MisIDEleSF_2018_looseCRe2e0 = 1.648 \r\n",
      "ZGammaSF_2018_looseCRe2e0 = 0.798 \r\n",
      "WGammaSF_2018_looseCRe2e0 = 1.253 \r\n",
      "MisIDEleSF_2018_looseCRe3e0 = 1.657 \r\n",
      "ZGammaSF_2018_looseCRe3e0 = 0.785 \r\n",
      "WGammaSF_2018_looseCRe3e0 = 1.362 \r\n",
      "MisIDEleSF_2018_looseCRge4e0 = 1.857 \r\n",
      "ZGammaSF_2018_looseCRge4e0 = 0.343 \r\n",
      "WGammaSF_2018_looseCRge4e0 = 1.719 \r\n"
     ]
    }
   ],
   "source": [
    "!cat MisIDEleSFvalues.py\n",
    "\n",
    "# ## copy the file to plotting folder\n",
    "!cp MisIDEleSFvalues.py /uscms_data/d3/npoudyal/TTGammaSemiLeptonic13TeV/Plotting"
   ]
  },
  {
   "cell_type": "code",
   "execution_count": 47,
   "metadata": {},
   "outputs": [],
   "source": [
    "line = \"\"\n",
    "for ifile in ListOfFiles2016:\n",
    "    myfile = ROOT.TFile(ifile,\"read\")\n",
    "    if myfile.GetListOfKeys().Contains(\"fit_s\") is False:\n",
    "        print ifile[14:-10], \": Fit failed.\"\n",
    "        continue\n",
    "    fit_s = myfile.Get(\"fit_s\")\n",
    "    line += \"\\\\newcommand{\\\\%s} {\\ensuremath{%.3f \\\\substack{%.3f \\\\\\\\ +%.3f}}}\\n\"%(CRDictMisID[ifile[14:-10]]+\"Sixteen\",fit_s.floatParsFinal().find(\"r\").getVal(),fit_s.floatParsFinal().find(\"r\").getErrorLo(),fit_s.floatParsFinal().find(\"r\").getErrorHi())\n",
    "    line += \"\\\\newcommand{\\\\%s} {\\ensuremath{%.3f \\\\substack{%.3f \\\\\\\\ +%.3f}}}\\n\"%(CRDictZGamma[ifile[14:-10]]+\"Sixteen\",fit_s.floatParsFinal().find(\"ZGammaBkgPhotonSF\").getVal(),fit_s.floatParsFinal().find(\"r\").getErrorLo(),fit_s.floatParsFinal().find(\"ZGammaBkgPhotonSF\").getErrorHi())\n",
    "    line += \"\\\\newcommand{\\\\%s} {\\ensuremath{%.3f \\\\substack{%.3f \\\\\\\\ +%.3f}}}\\n\"%(CRDictWGamma[ifile[14:-10]]+\"Sixteen\",fit_s.floatParsFinal().find(\"WGammaBkgPhotonSF\").getVal(),fit_s.floatParsFinal().find(\"r\").getErrorLo(),fit_s.floatParsFinal().find(\"WGammaBkgPhotonSF\").getErrorHi())\n",
    "\n",
    "for ifile in ListOfFiles2017:\n",
    "    myfile = ROOT.TFile(ifile,\"read\")\n",
    "    if myfile.GetListOfKeys().Contains(\"fit_s\") is False:\n",
    "        print ifile[14:-10], \": Fit failed.\"\n",
    "        continue\n",
    "    fit_s = myfile.Get(\"fit_s\")\n",
    "    line += \"\\\\newcommand{\\\\%s} {\\ensuremath{%.3f \\\\substack{%.3f \\\\\\\\ +%.3f}}}\\n\"%(CRDictMisID[ifile[14:-10]]+\"Seventeen\",fit_s.floatParsFinal().find(\"r\").getVal(),fit_s.floatParsFinal().find(\"r\").getErrorLo(),fit_s.floatParsFinal().find(\"r\").getErrorHi())\n",
    "    line += \"\\\\newcommand{\\\\%s} {\\ensuremath{%.3f \\\\substack{%.3f \\\\\\\\ +%.3f}}}\\n\"%(CRDictZGamma[ifile[14:-10]]+\"Seventeen\",fit_s.floatParsFinal().find(\"ZGammaBkgPhotonSF\").getVal(),fit_s.floatParsFinal().find(\"r\").getErrorLo(),fit_s.floatParsFinal().find(\"ZGammaBkgPhotonSF\").getErrorHi())\n",
    "    line += \"\\\\newcommand{\\\\%s} {\\ensuremath{%.3f \\\\substack{%.3f \\\\\\\\ +%.3f}}}\\n\"%(CRDictWGamma[ifile[14:-10]]+\"Seventeen\",fit_s.floatParsFinal().find(\"WGammaBkgPhotonSF\").getVal(),fit_s.floatParsFinal().find(\"r\").getErrorLo(),fit_s.floatParsFinal().find(\"WGammaBkgPhotonSF\").getErrorHi())\n",
    "\n",
    "for ifile in ListOfFiles2018:\n",
    "    myfile = ROOT.TFile(ifile,\"read\")\n",
    "    if myfile.GetListOfKeys().Contains(\"fit_s\") is False:\n",
    "        print ifile[14:-10], \": Fit failed.\"\n",
    "        continue\n",
    "    fit_s = myfile.Get(\"fit_s\")\n",
    "    line += \"\\\\newcommand{\\\\%s} {\\ensuremath{%.3f \\\\substack{%.3f \\\\\\\\ +%.3f}}}\\n\"%(CRDictMisID[ifile[14:-10]]+\"Eighteen\",fit_s.floatParsFinal().find(\"r\").getVal(),fit_s.floatParsFinal().find(\"r\").getErrorLo(),fit_s.floatParsFinal().find(\"r\").getErrorHi())\n",
    "    line += \"\\\\newcommand{\\\\%s} {\\ensuremath{%.3f \\\\substack{%.3f \\\\\\\\ +%.3f}}}\\n\"%(CRDictZGamma[ifile[14:-10]]+\"Eighteen\",fit_s.floatParsFinal().find(\"ZGammaBkgPhotonSF\").getVal(),fit_s.floatParsFinal().find(\"r\").getErrorLo(),fit_s.floatParsFinal().find(\"ZGammaBkgPhotonSF\").getErrorHi())\n",
    "    line += \"\\\\newcommand{\\\\%s} {\\ensuremath{%.3f \\\\substack{%.3f \\\\\\\\ +%.3f}}}\\n\"%(CRDictWGamma[ifile[14:-10]]+\"Eighteen\",fit_s.floatParsFinal().find(\"WGammaBkgPhotonSF\").getVal(),fit_s.floatParsFinal().find(\"r\").getErrorLo(),fit_s.floatParsFinal().find(\"WGammaBkgPhotonSF\").getErrorHi())\n",
    "\n",
    "\n",
    "with open(\"MisIDEleSFvalues.tex\",\"w\") as _file:\n",
    "    _file.write(line)\n",
    "\n"
   ]
  },
  {
   "cell_type": "code",
   "execution_count": 48,
   "metadata": {},
   "outputs": [
    {
     "name": "stdout",
     "output_type": "stream",
     "text": [
      "\\newcommand{\\misIDsfCRallSixteen} {\\ensuremath{2.501 \\substack{-0.116 \\\\ +0.122}}}\r\n",
      "\\newcommand{\\zGammasfCRallSixteen} {\\ensuremath{0.900 \\substack{-0.116 \\\\ +0.108}}}\r\n",
      "\\newcommand{\\wGammasfCRallSixteen} {\\ensuremath{1.206 \\substack{-0.116 \\\\ +0.083}}}\r\n",
      "\\newcommand{\\misIDsfCRoneSixteen} {\\ensuremath{2.510 \\substack{-0.120 \\\\ +0.126}}}\r\n",
      "\\newcommand{\\zGammasfCRoneSixteen} {\\ensuremath{0.866 \\substack{-0.120 \\\\ +0.106}}}\r\n",
      "\\newcommand{\\wGammasfCRoneSixteen} {\\ensuremath{1.213 \\substack{-0.120 \\\\ +0.083}}}\r\n",
      "\\newcommand{\\misIDsfCRtwoSixteen} {\\ensuremath{2.532 \\substack{-0.196 \\\\ +0.213}}}\r\n",
      "\\newcommand{\\zGammasfCRtwoSixteen} {\\ensuremath{0.889 \\substack{-0.196 \\\\ +0.206}}}\r\n",
      "\\newcommand{\\wGammasfCRtwoSixteen} {\\ensuremath{1.199 \\substack{-0.196 \\\\ +0.114}}}\r\n",
      "\\newcommand{\\misIDsfCRthreeSixteen} {\\ensuremath{2.480 \\substack{-0.312 \\\\ +0.352}}}\r\n",
      "\\newcommand{\\zGammasfCRthreeSixteen} {\\ensuremath{1.330 \\substack{-0.312 \\\\ +0.481}}}\r\n",
      "\\newcommand{\\wGammasfCRthreeSixteen} {\\ensuremath{1.262 \\substack{-0.312 \\\\ +0.187}}}\r\n",
      "\\newcommand{\\misIDsfCRallSeventeen} {\\ensuremath{2.448 \\substack{-0.148 \\\\ +0.160}}}\r\n",
      "\\newcommand{\\zGammasfCRallSeventeen} {\\ensuremath{0.929 \\substack{-0.148 \\\\ +0.143}}}\r\n",
      "\\newcommand{\\wGammasfCRallSeventeen} {\\ensuremath{1.223 \\substack{-0.148 \\\\ +0.104}}}\r\n",
      "\\newcommand{\\misIDsfCRoneSeventeen} {\\ensuremath{2.475 \\substack{-0.152 \\\\ +0.164}}}\r\n",
      "\\newcommand{\\zGammasfCRoneSeventeen} {\\ensuremath{0.915 \\substack{-0.152 \\\\ +0.138}}}\r\n",
      "\\newcommand{\\wGammasfCRoneSeventeen} {\\ensuremath{1.171 \\substack{-0.152 \\\\ +0.100}}}\r\n",
      "\\newcommand{\\misIDsfCRtwoSeventeen} {\\ensuremath{2.435 \\substack{-0.202 \\\\ +0.225}}}\r\n",
      "\\newcommand{\\zGammasfCRtwoSeventeen} {\\ensuremath{0.892 \\substack{-0.202 \\\\ +0.251}}}\r\n",
      "\\newcommand{\\wGammasfCRtwoSeventeen} {\\ensuremath{1.344 \\substack{-0.202 \\\\ +0.145}}}\r\n",
      "\\newcommand{\\misIDsfCRthreeSeventeen} {\\ensuremath{3.065 \\substack{-0.398 \\\\ +0.478}}}\r\n",
      "\\newcommand{\\zGammasfCRthreeSeventeen} {\\ensuremath{0.903 \\substack{-0.398 \\\\ +0.706}}}\r\n",
      "\\newcommand{\\wGammasfCRthreeSeventeen} {\\ensuremath{1.664 \\substack{-0.398 \\\\ +0.279}}}\r\n",
      "\\newcommand{\\misIDsfCRallEighteen} {\\ensuremath{1.629 \\substack{-0.075 \\\\ +0.079}}}\r\n",
      "\\newcommand{\\zGammasfCRallEighteen} {\\ensuremath{0.808 \\substack{-0.075 \\\\ +0.110}}}\r\n",
      "\\newcommand{\\wGammasfCRallEighteen} {\\ensuremath{1.277 \\substack{-0.075 \\\\ +0.089}}}\r\n",
      "\\newcommand{\\misIDsfCRoneEighteen} {\\ensuremath{1.648 \\substack{-0.078 \\\\ +0.082}}}\r\n",
      "\\newcommand{\\zGammasfCRoneEighteen} {\\ensuremath{0.798 \\substack{-0.078 \\\\ +0.104}}}\r\n",
      "\\newcommand{\\wGammasfCRoneEighteen} {\\ensuremath{1.253 \\substack{-0.078 \\\\ +0.088}}}\r\n",
      "\\newcommand{\\misIDsfCRtwoEighteen} {\\ensuremath{1.657 \\substack{-0.110 \\\\ +0.119}}}\r\n",
      "\\newcommand{\\zGammasfCRtwoEighteen} {\\ensuremath{0.785 \\substack{-0.110 \\\\ +0.240}}}\r\n",
      "\\newcommand{\\wGammasfCRtwoEighteen} {\\ensuremath{1.362 \\substack{-0.110 \\\\ +0.129}}}\r\n",
      "\\newcommand{\\misIDsfCRthreeEighteen} {\\ensuremath{1.857 \\substack{-0.199 \\\\ +0.228}}}\r\n",
      "\\newcommand{\\zGammasfCRthreeEighteen} {\\ensuremath{0.343 \\substack{-0.199 \\\\ +0.626}}}\r\n",
      "\\newcommand{\\wGammasfCRthreeEighteen} {\\ensuremath{1.719 \\substack{-0.199 \\\\ +0.248}}}\r\n"
     ]
    }
   ],
   "source": [
    "!cat MisIDEleSFvalues.tex\n",
    "\n",
    "# ## copy the file to plotting folder\n",
    "!cp MisIDEleSFvalues.tex ../AllTexFiles "
   ]
  },
  {
   "cell_type": "code",
   "execution_count": null,
   "metadata": {},
   "outputs": [],
   "source": []
  }
 ],
 "metadata": {
  "kernelspec": {
   "display_name": "Python 2",
   "language": "python",
   "name": "python2"
  },
  "language_info": {
   "codemirror_mode": {
    "name": "ipython",
    "version": 2
   },
   "file_extension": ".py",
   "mimetype": "text/x-python",
   "name": "python",
   "nbconvert_exporter": "python",
   "pygments_lexer": "ipython2",
   "version": "2.7.14+"
  }
 },
 "nbformat": 4,
 "nbformat_minor": 2
}
