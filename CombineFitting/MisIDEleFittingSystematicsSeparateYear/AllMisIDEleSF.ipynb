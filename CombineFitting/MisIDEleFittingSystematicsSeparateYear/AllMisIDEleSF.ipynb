{
 "cells": [
  {
   "cell_type": "code",
   "execution_count": 20,
   "metadata": {},
   "outputs": [
    {
     "name": "stdout",
     "output_type": "stream",
     "text": [
      "/uscms_data/d3/npoudyal/TTGammaSemiLeptonic13TeV/Plotting/CombineFitting/MisIDEleFittingSystematicsSeparateYear\r\n"
     ]
    }
   ],
   "source": [
    "import ROOT\n",
    "!pwd"
   ]
  },
  {
   "cell_type": "code",
   "execution_count": 21,
   "metadata": {},
   "outputs": [],
   "source": [
    "ListOfFiles2016 = [\"fitDiagnosticsCR123_2016.root\", \"fitDiagnosticsCR1_2016.root\",  \"fitDiagnosticsCR2_2016.root\", \"fitDiagnosticsCR3_2016.root\"]#,\"fitDiagnosticsCR4_2016.root\"]\n",
    "ListOfFiles2017 = [\"fitDiagnosticsCR123_2017.root\", \"fitDiagnosticsCR1_2017.root\",  \"fitDiagnosticsCR2_2017.root\", \"fitDiagnosticsCR3_2017.root\"]#,\"fitDiagnosticsCR4_2017.root\"]\n",
    "ListOfFiles2018 = [\"fitDiagnosticsCR123_2018.root\", \"fitDiagnosticsCR1_2018.root\",  \"fitDiagnosticsCR2_2018.root\", \"fitDiagnosticsCR3_2018.root\"]#,\"fitDiagnosticsCR4_2018.root\"]\n"
   ]
  },
  {
   "cell_type": "code",
   "execution_count": 22,
   "metadata": {},
   "outputs": [
    {
     "name": "stdout",
     "output_type": "stream",
     "text": [
      "2.41593668506\n",
      "1.14292898212\n",
      "0.954608213911\n"
     ]
    }
   ],
   "source": [
    "myfile = ROOT.TFile(\"fitDiagnosticsCR123_2016.root\",\"read\")\n",
    "fit_s = myfile.Get(\"fit_s\")\n",
    "print fit_s.floatParsFinal().find(\"r\").getVal()\n",
    "print fit_s.floatParsFinal().find(\"WGammaBkgPhotonSF\").getVal()\n",
    "print fit_s.floatParsFinal().find(\"ZGammaBkgPhotonSF\").getVal()"
   ]
  },
  {
   "cell_type": "code",
   "execution_count": 23,
   "metadata": {},
   "outputs": [],
   "source": [
    "controlRegionDict ={\"SR8\":\"tight\", \"CR123\":\"looseCRge2e0\", \"AR\":\"looseCRge2ge0\", \"CR7\":\"looseCRe3ge2\", \"CR3\":\"looseCRge4e0\", \"CR2\":\"looseCRe3e0\", \n",
    "\t\t\t\t   \"CR4\":\"looseCRe2e1\", \"CR1\":\"looseCRe2e0\", \"CR6\":\"looseCRe2e2\", \"CR5\":\"looseCRe3e1\" }\n",
    "\n",
    "\n",
    "CRDictMisID ={\"SR8\":\"misIDsfSReight\", \"CR123\":\"misIDsfCRall\", \"CR7\":\"misIDsfCRseven\", \"CR3\":\"misIDsfCRthree\", \"CR2\":\"misIDsfCRtwo\", \n",
    "\t\t \"CR4\":\"misIDsfCRfour\", \"CR1\":\"misIDsfCRone\", \"CR6\":\"misIDsfCRsix\", \"CR5\":\"misIDsfCRfive\" }\n",
    "\n",
    "CRDictZGamma ={\"SR8\":\"zGammasfSReight\", \"CR123\":\"zGammasfCRall\", \"CR7\":\"zGammasfCRseven\", \"CR3\":\"zGammasfCRthree\", \"CR2\":\"zGammasfCRtwo\", \n",
    "\t\t \"CR4\":\"zGammasfCRfour\", \"CR1\":\"zGammasfCRone\", \"CR6\":\"zGammasfCRsix\", \"CR5\":\"zGammasfCRfive\" }\n",
    "\n",
    "CRDictWGamma ={\"SR8\":\"wGammasfSReight\", \"CR123\":\"wGammasfCRall\", \"CR7\":\"wGammasfCRseven\", \"CR3\":\"wGammasfCRthree\", \"CR2\":\"wGammasfCRtwo\", \n",
    "\t\t \"CR4\":\"wGammasfCRfour\", \"CR1\":\"wGammasfCRone\", \"CR6\":\"wGammasfCRsix\", \"CR5\":\"wGammasfCRfive\" }"
   ]
  },
  {
   "cell_type": "code",
   "execution_count": 24,
   "metadata": {},
   "outputs": [
    {
     "name": "stdout",
     "output_type": "stream",
     "text": [
      "MisIDEleSF_2016_looseCRge2e0 = 2.416 \r\n",
      "ZGammaSF_2016_looseCRge2e0 = 0.955 \r\n",
      "WGammaSF_2016_looseCRge2e0 = 1.143 \r\n",
      "MisIDEleSF_2016_looseCRe2e0 = 2.501 \r\n",
      "ZGammaSF_2016_looseCRe2e0 = 0.928 \r\n",
      "WGammaSF_2016_looseCRe2e0 = 1.155 \r\n",
      "MisIDEleSF_2016_looseCRe3e0 = 2.570 \r\n",
      "ZGammaSF_2016_looseCRe3e0 = 1.028 \r\n",
      "WGammaSF_2016_looseCRe3e0 = 1.090 \r\n",
      "MisIDEleSF_2016_looseCRge4e0 = 2.482 \r\n",
      "ZGammaSF_2016_looseCRge4e0 = 1.192 \r\n",
      "WGammaSF_2016_looseCRge4e0 = 1.285 \r\n",
      "MisIDEleSF_2017_looseCRge2e0 = 2.536 \r\n",
      "ZGammaSF_2017_looseCRge2e0 = 0.926 \r\n",
      "WGammaSF_2017_looseCRge2e0 = 1.219 \r\n",
      "MisIDEleSF_2017_looseCRe2e0 = 2.671 \r\n",
      "ZGammaSF_2017_looseCRe2e0 = 0.911 \r\n",
      "WGammaSF_2017_looseCRe2e0 = 1.172 \r\n",
      "MisIDEleSF_2017_looseCRe3e0 = 2.464 \r\n",
      "ZGammaSF_2017_looseCRe3e0 = 0.847 \r\n",
      "WGammaSF_2017_looseCRe3e0 = 1.348 \r\n",
      "MisIDEleSF_2017_looseCRge4e0 = 3.382 \r\n",
      "ZGammaSF_2017_looseCRge4e0 = 0.832 \r\n",
      "WGammaSF_2017_looseCRge4e0 = 1.698 \r\n",
      "MisIDEleSF_2018_looseCRge2e0 = 1.514 \r\n",
      "ZGammaSF_2018_looseCRge2e0 = 0.781 \r\n",
      "WGammaSF_2018_looseCRge2e0 = 1.284 \r\n",
      "MisIDEleSF_2018_looseCRe2e0 = 1.510 \r\n",
      "ZGammaSF_2018_looseCRe2e0 = 0.769 \r\n",
      "WGammaSF_2018_looseCRe2e0 = 1.267 \r\n",
      "MisIDEleSF_2018_looseCRe3e0 = 1.635 \r\n",
      "ZGammaSF_2018_looseCRe3e0 = 0.794 \r\n",
      "WGammaSF_2018_looseCRe3e0 = 1.336 \r\n",
      "MisIDEleSF_2018_looseCRge4e0 = 1.891 \r\n",
      "ZGammaSF_2018_looseCRge4e0 = 0.306 \r\n",
      "WGammaSF_2018_looseCRge4e0 = 1.676 \r\n"
     ]
    }
   ],
   "source": [
    "line = \"\"\n",
    "for ifile in ListOfFiles2016:\n",
    "    myfile = ROOT.TFile(ifile,\"read\")\n",
    "    if myfile.GetListOfKeys().Contains(\"fit_s\") is False:\n",
    "        print ifile[14:-10], \": Fit failed.\"\n",
    "        continue\n",
    "    fit_s = myfile.Get(\"fit_s\")\n",
    "    line += \"MisIDEleSF_2016_%s = %.3f \\n\"%(controlRegionDict[ifile[14:-10]],fit_s.floatParsFinal().find(\"r\").getVal())\n",
    "    line +=   \"ZGammaSF_2016_%s = %.3f \\n\"%(controlRegionDict[ifile[14:-10]],fit_s.floatParsFinal().find(\"ZGammaBkgPhotonSF\").getVal())\n",
    "    line +=   \"WGammaSF_2016_%s = %.3f \\n\"%(controlRegionDict[ifile[14:-10]],fit_s.floatParsFinal().find(\"WGammaBkgPhotonSF\").getVal())\n",
    "\n",
    "for ifile in ListOfFiles2017:\n",
    "    myfile = ROOT.TFile(ifile,\"read\")\n",
    "    if myfile.GetListOfKeys().Contains(\"fit_s\") is False:\n",
    "        print ifile[14:-10], \": Fit failed.\"\n",
    "        continue\n",
    "    fit_s = myfile.Get(\"fit_s\")\n",
    "    line += \"MisIDEleSF_2017_%s = %.3f \\n\"%(controlRegionDict[ifile[14:-10]],fit_s.floatParsFinal().find(\"r\").getVal())\n",
    "    line +=   \"ZGammaSF_2017_%s = %.3f \\n\"%(controlRegionDict[ifile[14:-10]],fit_s.floatParsFinal().find(\"ZGammaBkgPhotonSF\").getVal())\n",
    "    line +=   \"WGammaSF_2017_%s = %.3f \\n\"%(controlRegionDict[ifile[14:-10]],fit_s.floatParsFinal().find(\"WGammaBkgPhotonSF\").getVal())\n",
    "\n",
    "for ifile in ListOfFiles2018:\n",
    "    myfile = ROOT.TFile(ifile,\"read\")\n",
    "    if myfile.GetListOfKeys().Contains(\"fit_s\") is False:\n",
    "        print ifile[14:-10], \": Fit failed.\"\n",
    "        continue\n",
    "    fit_s = myfile.Get(\"fit_s\")\n",
    "    line += \"MisIDEleSF_2018_%s = %.3f \\n\"%(controlRegionDict[ifile[14:-10]],fit_s.floatParsFinal().find(\"r\").getVal())\n",
    "    line +=   \"ZGammaSF_2018_%s = %.3f \\n\"%(controlRegionDict[ifile[14:-10]],fit_s.floatParsFinal().find(\"ZGammaBkgPhotonSF\").getVal())\n",
    "    line +=   \"WGammaSF_2018_%s = %.3f \\n\"%(controlRegionDict[ifile[14:-10]],fit_s.floatParsFinal().find(\"WGammaBkgPhotonSF\").getVal())\n",
    "\n",
    "with open(\"MisIDEleSFvalues.py\",\"w\") as _file:\n",
    "    _file.write(line)\n",
    "\n",
    "!cat MisIDEleSFvalues.py"
   ]
  },
  {
   "cell_type": "code",
   "execution_count": 25,
   "metadata": {},
   "outputs": [
    {
     "name": "stdout",
     "output_type": "stream",
     "text": [
      "MisIDEleSF_2016_looseCRge2e0 = 2.416 \r\n",
      "ZGammaSF_2016_looseCRge2e0 = 0.955 \r\n",
      "WGammaSF_2016_looseCRge2e0 = 1.143 \r\n",
      "MisIDEleSF_2016_looseCRe2e0 = 2.501 \r\n",
      "ZGammaSF_2016_looseCRe2e0 = 0.928 \r\n",
      "WGammaSF_2016_looseCRe2e0 = 1.155 \r\n",
      "MisIDEleSF_2016_looseCRe3e0 = 2.570 \r\n",
      "ZGammaSF_2016_looseCRe3e0 = 1.028 \r\n",
      "WGammaSF_2016_looseCRe3e0 = 1.090 \r\n",
      "MisIDEleSF_2016_looseCRge4e0 = 2.482 \r\n",
      "ZGammaSF_2016_looseCRge4e0 = 1.192 \r\n",
      "WGammaSF_2016_looseCRge4e0 = 1.285 \r\n",
      "MisIDEleSF_2017_looseCRge2e0 = 2.536 \r\n",
      "ZGammaSF_2017_looseCRge2e0 = 0.926 \r\n",
      "WGammaSF_2017_looseCRge2e0 = 1.219 \r\n",
      "MisIDEleSF_2017_looseCRe2e0 = 2.671 \r\n",
      "ZGammaSF_2017_looseCRe2e0 = 0.911 \r\n",
      "WGammaSF_2017_looseCRe2e0 = 1.172 \r\n",
      "MisIDEleSF_2017_looseCRe3e0 = 2.464 \r\n",
      "ZGammaSF_2017_looseCRe3e0 = 0.847 \r\n",
      "WGammaSF_2017_looseCRe3e0 = 1.348 \r\n",
      "MisIDEleSF_2017_looseCRge4e0 = 3.382 \r\n",
      "ZGammaSF_2017_looseCRge4e0 = 0.832 \r\n",
      "WGammaSF_2017_looseCRge4e0 = 1.698 \r\n",
      "MisIDEleSF_2018_looseCRge2e0 = 1.514 \r\n",
      "ZGammaSF_2018_looseCRge2e0 = 0.781 \r\n",
      "WGammaSF_2018_looseCRge2e0 = 1.284 \r\n",
      "MisIDEleSF_2018_looseCRe2e0 = 1.510 \r\n",
      "ZGammaSF_2018_looseCRe2e0 = 0.769 \r\n",
      "WGammaSF_2018_looseCRe2e0 = 1.267 \r\n",
      "MisIDEleSF_2018_looseCRe3e0 = 1.635 \r\n",
      "ZGammaSF_2018_looseCRe3e0 = 0.794 \r\n",
      "WGammaSF_2018_looseCRe3e0 = 1.336 \r\n",
      "MisIDEleSF_2018_looseCRge4e0 = 1.891 \r\n",
      "ZGammaSF_2018_looseCRge4e0 = 0.306 \r\n",
      "WGammaSF_2018_looseCRge4e0 = 1.676 \r\n"
     ]
    }
   ],
   "source": [
    "!cat MisIDEleSFvalues.py"
   ]
  },
  {
   "cell_type": "code",
   "execution_count": null,
   "metadata": {},
   "outputs": [],
   "source": []
  },
  {
   "cell_type": "code",
   "execution_count": 26,
   "metadata": {},
   "outputs": [
    {
     "name": "stdout",
     "output_type": "stream",
     "text": [
      "MisIDEleSF_2016_looseCRge2e0 = 2.416 \r\n",
      "ZGammaSF_2016_looseCRge2e0 = 0.955 \r\n",
      "WGammaSF_2016_looseCRge2e0 = 1.143 \r\n",
      "MisIDEleSF_2016_looseCRe2e0 = 2.501 \r\n",
      "ZGammaSF_2016_looseCRe2e0 = 0.928 \r\n",
      "WGammaSF_2016_looseCRe2e0 = 1.155 \r\n",
      "MisIDEleSF_2016_looseCRe3e0 = 2.570 \r\n",
      "ZGammaSF_2016_looseCRe3e0 = 1.028 \r\n",
      "WGammaSF_2016_looseCRe3e0 = 1.090 \r\n",
      "MisIDEleSF_2016_looseCRge4e0 = 2.482 \r\n",
      "ZGammaSF_2016_looseCRge4e0 = 1.192 \r\n",
      "WGammaSF_2016_looseCRge4e0 = 1.285 \r\n",
      "MisIDEleSF_2017_looseCRge2e0 = 2.536 \r\n",
      "ZGammaSF_2017_looseCRge2e0 = 0.926 \r\n",
      "WGammaSF_2017_looseCRge2e0 = 1.219 \r\n",
      "MisIDEleSF_2017_looseCRe2e0 = 2.671 \r\n",
      "ZGammaSF_2017_looseCRe2e0 = 0.911 \r\n",
      "WGammaSF_2017_looseCRe2e0 = 1.172 \r\n",
      "MisIDEleSF_2017_looseCRe3e0 = 2.464 \r\n",
      "ZGammaSF_2017_looseCRe3e0 = 0.847 \r\n",
      "WGammaSF_2017_looseCRe3e0 = 1.348 \r\n",
      "MisIDEleSF_2017_looseCRge4e0 = 3.382 \r\n",
      "ZGammaSF_2017_looseCRge4e0 = 0.832 \r\n",
      "WGammaSF_2017_looseCRge4e0 = 1.698 \r\n",
      "MisIDEleSF_2018_looseCRge2e0 = 1.514 \r\n",
      "ZGammaSF_2018_looseCRge2e0 = 0.781 \r\n",
      "WGammaSF_2018_looseCRge2e0 = 1.284 \r\n",
      "MisIDEleSF_2018_looseCRe2e0 = 1.510 \r\n",
      "ZGammaSF_2018_looseCRe2e0 = 0.769 \r\n",
      "WGammaSF_2018_looseCRe2e0 = 1.267 \r\n",
      "MisIDEleSF_2018_looseCRe3e0 = 1.635 \r\n",
      "ZGammaSF_2018_looseCRe3e0 = 0.794 \r\n",
      "WGammaSF_2018_looseCRe3e0 = 1.336 \r\n",
      "MisIDEleSF_2018_looseCRge4e0 = 1.891 \r\n",
      "ZGammaSF_2018_looseCRge4e0 = 0.306 \r\n",
      "WGammaSF_2018_looseCRge4e0 = 1.676 \r\n"
     ]
    }
   ],
   "source": [
    "!cat MisIDEleSFvalues.py\n",
    "\n",
    "# ## copy the file to plotting folder\n",
    "!cp MisIDEleSFvalues.py /uscms_data/d3/npoudyal/TTGammaSemiLeptonic13TeV/Plotting"
   ]
  },
  {
   "cell_type": "code",
   "execution_count": 27,
   "metadata": {},
   "outputs": [],
   "source": [
    "line = \"\"\n",
    "for ifile in ListOfFiles2016:\n",
    "    myfile = ROOT.TFile(ifile,\"read\")\n",
    "    if myfile.GetListOfKeys().Contains(\"fit_s\") is False:\n",
    "        print ifile[14:-10], \": Fit failed.\"\n",
    "        continue\n",
    "    fit_s = myfile.Get(\"fit_s\")\n",
    "    line += \"\\\\newcommand{\\\\%s} {\\ensuremath{%.3f \\\\substack{+%.3f \\\\\\\\ %.3f}}}\\n\"%(CRDictMisID[ifile[14:-10]]+\"Sixteen\",fit_s.floatParsFinal().find(\"r\").getVal(),fit_s.floatParsFinal().find(\"r\").getErrorHi(),fit_s.floatParsFinal().find(\"r\").getErrorLo())\n",
    "    line += \"\\\\newcommand{\\\\%s} {\\ensuremath{%.3f \\\\substack{+%.3f \\\\\\\\ %.3f}}}\\n\"%(CRDictZGamma[ifile[14:-10]]+\"Sixteen\",fit_s.floatParsFinal().find(\"ZGammaBkgPhotonSF\").getVal(),fit_s.floatParsFinal().find(\"r\").getErrorHi(),fit_s.floatParsFinal().find(\"ZGammaBkgPhotonSF\").getErrorLo())\n",
    "    line += \"\\\\newcommand{\\\\%s} {\\ensuremath{%.3f \\\\substack{+%.3f \\\\\\\\ %.3f}}}\\n\"%(CRDictWGamma[ifile[14:-10]]+\"Sixteen\",fit_s.floatParsFinal().find(\"WGammaBkgPhotonSF\").getVal(),fit_s.floatParsFinal().find(\"r\").getErrorHi(),fit_s.floatParsFinal().find(\"WGammaBkgPhotonSF\").getErrorLo())\n",
    "\n",
    "for ifile in ListOfFiles2017:\n",
    "    myfile = ROOT.TFile(ifile,\"read\")\n",
    "    if myfile.GetListOfKeys().Contains(\"fit_s\") is False:\n",
    "        print ifile[14:-10], \": Fit failed.\"\n",
    "        continue\n",
    "    fit_s = myfile.Get(\"fit_s\")\n",
    "    line += \"\\\\newcommand{\\\\%s} {\\ensuremath{%.3f \\\\substack{+%.3f \\\\\\\\ %.3f}}}\\n\"%(CRDictMisID[ifile[14:-10]]+\"Seventeen\",fit_s.floatParsFinal().find(\"r\").getVal(),fit_s.floatParsFinal().find(\"r\").getErrorHi(),fit_s.floatParsFinal().find(\"r\").getErrorLo())\n",
    "    line += \"\\\\newcommand{\\\\%s} {\\ensuremath{%.3f \\\\substack{+%.3f \\\\\\\\ %.3f}}}\\n\"%(CRDictZGamma[ifile[14:-10]]+\"Seventeen\",fit_s.floatParsFinal().find(\"ZGammaBkgPhotonSF\").getVal(),fit_s.floatParsFinal().find(\"r\").getErrorHi(),fit_s.floatParsFinal().find(\"ZGammaBkgPhotonSF\").getErrorLo())\n",
    "    line += \"\\\\newcommand{\\\\%s} {\\ensuremath{%.3f \\\\substack{+%.3f \\\\\\\\ %.3f}}}\\n\"%(CRDictWGamma[ifile[14:-10]]+\"Seventeen\",fit_s.floatParsFinal().find(\"WGammaBkgPhotonSF\").getVal(),fit_s.floatParsFinal().find(\"r\").getErrorHi(),fit_s.floatParsFinal().find(\"WGammaBkgPhotonSF\").getErrorLo())\n",
    "\n",
    "for ifile in ListOfFiles2018:\n",
    "    myfile = ROOT.TFile(ifile,\"read\")\n",
    "    if myfile.GetListOfKeys().Contains(\"fit_s\") is False:\n",
    "        print ifile[14:-10], \": Fit failed.\"\n",
    "        continue\n",
    "    fit_s = myfile.Get(\"fit_s\")\n",
    "    line += \"\\\\newcommand{\\\\%s} {\\ensuremath{%.3f \\\\substack{+%.3f \\\\\\\\ %.3f}}}\\n\"%(CRDictMisID[ifile[14:-10]]+\"Eighteen\",fit_s.floatParsFinal().find(\"r\").getVal(),fit_s.floatParsFinal().find(\"r\").getErrorHi(),fit_s.floatParsFinal().find(\"r\").getErrorLo())\n",
    "    line += \"\\\\newcommand{\\\\%s} {\\ensuremath{%.3f \\\\substack{+%.3f \\\\\\\\ %.3f}}}\\n\"%(CRDictZGamma[ifile[14:-10]]+\"Eighteen\",fit_s.floatParsFinal().find(\"ZGammaBkgPhotonSF\").getVal(),fit_s.floatParsFinal().find(\"r\").getErrorHi(),fit_s.floatParsFinal().find(\"ZGammaBkgPhotonSF\").getErrorLo())\n",
    "    line += \"\\\\newcommand{\\\\%s} {\\ensuremath{%.3f \\\\substack{+%.3f \\\\\\\\ %.3f}}}\\n\"%(CRDictWGamma[ifile[14:-10]]+\"Eighteen\",fit_s.floatParsFinal().find(\"WGammaBkgPhotonSF\").getVal(),fit_s.floatParsFinal().find(\"r\").getErrorHi(),fit_s.floatParsFinal().find(\"WGammaBkgPhotonSF\").getErrorLo())\n",
    "\n",
    "\n",
    "with open(\"MisIDEleSFvalues.tex\",\"w\") as _file:\n",
    "    _file.write(line)\n",
    "\n"
   ]
  },
  {
   "cell_type": "code",
   "execution_count": 28,
   "metadata": {},
   "outputs": [
    {
     "name": "stdout",
     "output_type": "stream",
     "text": [
      "\\newcommand{\\misIDsfCRallSixteen} {\\ensuremath{2.416 \\substack{+0.215 \\\\ -0.199}}}\r\n",
      "\\newcommand{\\zGammasfCRallSixteen} {\\ensuremath{0.955 \\substack{+0.215 \\\\ -0.106}}}\r\n",
      "\\newcommand{\\wGammasfCRallSixteen} {\\ensuremath{1.143 \\substack{+0.215 \\\\ -0.082}}}\r\n",
      "\\newcommand{\\misIDsfCRoneSixteen} {\\ensuremath{2.501 \\substack{+0.238 \\\\ -0.209}}}\r\n",
      "\\newcommand{\\zGammasfCRoneSixteen} {\\ensuremath{0.928 \\substack{+0.238 \\\\ -0.103}}}\r\n",
      "\\newcommand{\\wGammasfCRoneSixteen} {\\ensuremath{1.155 \\substack{+0.238 \\\\ -0.080}}}\r\n",
      "\\newcommand{\\misIDsfCRtwoSixteen} {\\ensuremath{2.570 \\substack{+0.340 \\\\ -0.285}}}\r\n",
      "\\newcommand{\\zGammasfCRtwoSixteen} {\\ensuremath{1.028 \\substack{+0.340 \\\\ -0.206}}}\r\n",
      "\\newcommand{\\wGammasfCRtwoSixteen} {\\ensuremath{1.090 \\substack{+0.340 \\\\ -0.112}}}\r\n",
      "\\newcommand{\\misIDsfCRthreeSixteen} {\\ensuremath{2.482 \\substack{+0.427 \\\\ -0.376}}}\r\n",
      "\\newcommand{\\zGammasfCRthreeSixteen} {\\ensuremath{1.192 \\substack{+0.427 \\\\ -0.539}}}\r\n",
      "\\newcommand{\\wGammasfCRthreeSixteen} {\\ensuremath{1.285 \\substack{+0.427 \\\\ -0.207}}}\r\n",
      "\\newcommand{\\misIDsfCRallSeventeen} {\\ensuremath{2.536 \\substack{+0.241 \\\\ -0.210}}}\r\n",
      "\\newcommand{\\zGammasfCRallSeventeen} {\\ensuremath{0.926 \\substack{+0.241 \\\\ -0.143}}}\r\n",
      "\\newcommand{\\wGammasfCRallSeventeen} {\\ensuremath{1.219 \\substack{+0.241 \\\\ -0.104}}}\r\n",
      "\\newcommand{\\misIDsfCRoneSeventeen} {\\ensuremath{2.671 \\substack{+0.262 \\\\ -0.239}}}\r\n",
      "\\newcommand{\\zGammasfCRoneSeventeen} {\\ensuremath{0.911 \\substack{+0.262 \\\\ -0.137}}}\r\n",
      "\\newcommand{\\wGammasfCRoneSeventeen} {\\ensuremath{1.172 \\substack{+0.262 \\\\ -0.100}}}\r\n",
      "\\newcommand{\\misIDsfCRtwoSeventeen} {\\ensuremath{2.464 \\substack{+0.275 \\\\ -0.240}}}\r\n",
      "\\newcommand{\\zGammasfCRtwoSeventeen} {\\ensuremath{0.847 \\substack{+0.275 \\\\ -0.251}}}\r\n",
      "\\newcommand{\\wGammasfCRtwoSeventeen} {\\ensuremath{1.348 \\substack{+0.275 \\\\ -0.145}}}\r\n",
      "\\newcommand{\\misIDsfCRthreeSeventeen} {\\ensuremath{3.382 \\substack{+0.612 \\\\ -0.503}}}\r\n",
      "\\newcommand{\\zGammasfCRthreeSeventeen} {\\ensuremath{0.832 \\substack{+0.612 \\\\ -0.727}}}\r\n",
      "\\newcommand{\\wGammasfCRthreeSeventeen} {\\ensuremath{1.698 \\substack{+0.612 \\\\ -0.287}}}\r\n",
      "\\newcommand{\\misIDsfCRallEighteen} {\\ensuremath{1.514 \\substack{+0.107 \\\\ -0.100}}}\r\n",
      "\\newcommand{\\zGammasfCRallEighteen} {\\ensuremath{0.781 \\substack{+0.107 \\\\ -0.110}}}\r\n",
      "\\newcommand{\\wGammasfCRallEighteen} {\\ensuremath{1.284 \\substack{+0.107 \\\\ -0.090}}}\r\n",
      "\\newcommand{\\misIDsfCRoneEighteen} {\\ensuremath{1.510 \\substack{+0.107 \\\\ -0.100}}}\r\n",
      "\\newcommand{\\zGammasfCRoneEighteen} {\\ensuremath{0.769 \\substack{+0.107 \\\\ -0.106}}}\r\n",
      "\\newcommand{\\wGammasfCRoneEighteen} {\\ensuremath{1.267 \\substack{+0.107 \\\\ -0.090}}}\r\n",
      "\\newcommand{\\misIDsfCRtwoEighteen} {\\ensuremath{1.635 \\substack{+0.147 \\\\ -0.136}}}\r\n",
      "\\newcommand{\\zGammasfCRtwoEighteen} {\\ensuremath{0.794 \\substack{+0.147 \\\\ -0.236}}}\r\n",
      "\\newcommand{\\wGammasfCRtwoEighteen} {\\ensuremath{1.336 \\substack{+0.147 \\\\ -0.127}}}\r\n",
      "\\newcommand{\\misIDsfCRthreeEighteen} {\\ensuremath{1.891 \\substack{+0.301 \\\\ -0.257}}}\r\n",
      "\\newcommand{\\zGammasfCRthreeEighteen} {\\ensuremath{0.306 \\substack{+0.301 \\\\ -0.585}}}\r\n",
      "\\newcommand{\\wGammasfCRthreeEighteen} {\\ensuremath{1.676 \\substack{+0.301 \\\\ -0.233}}}\r\n"
     ]
    }
   ],
   "source": [
    "!cat MisIDEleSFvalues.tex\n",
    "\n",
    "# ## copy the file to plotting folder\n",
    "!cp MisIDEleSFvalues.tex ../AllTexFiles "
   ]
  },
  {
   "cell_type": "code",
   "execution_count": null,
   "metadata": {},
   "outputs": [],
   "source": []
  },
  {
   "cell_type": "code",
   "execution_count": null,
   "metadata": {},
   "outputs": [],
   "source": []
  },
  {
   "cell_type": "code",
   "execution_count": null,
   "metadata": {},
   "outputs": [],
   "source": []
  },
  {
   "cell_type": "code",
   "execution_count": null,
   "metadata": {},
   "outputs": [],
   "source": []
  }
 ],
 "metadata": {
  "kernelspec": {
   "display_name": "Python 2",
   "language": "python",
   "name": "python2"
  },
  "language_info": {
   "codemirror_mode": {
    "name": "ipython",
    "version": 2
   },
   "file_extension": ".py",
   "mimetype": "text/x-python",
   "name": "python",
   "nbconvert_exporter": "python",
   "pygments_lexer": "ipython2",
   "version": "2.7.14+"
  }
 },
 "nbformat": 4,
 "nbformat_minor": 2
}
