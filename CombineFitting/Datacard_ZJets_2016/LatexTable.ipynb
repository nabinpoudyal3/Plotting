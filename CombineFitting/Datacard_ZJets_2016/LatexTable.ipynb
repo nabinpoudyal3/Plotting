{
 "cells": [
  {
   "cell_type": "code",
   "execution_count": 1,
   "metadata": {},
   "outputs": [
    {
     "name": "stdout",
     "output_type": "stream",
     "text": [
      "/uscms_data/d3/npoudyal/TTGammaSemiLeptonic13TeV/Plotting/CombineFitting/Datacard_ZJets_2016\r\n"
     ]
    }
   ],
   "source": [
    "import uproot\n",
    "!pwd"
   ]
  },
  {
   "cell_type": "code",
   "execution_count": 8,
   "metadata": {},
   "outputs": [],
   "source": [
    "ListOfFiles = [\"fitDiagnosticsAR_both.root\", \"fitDiagnosticsCR123_both.root\", \"fitDiagnosticsCR1_both.root\",  \"fitDiagnosticsCR2_both.root\", \"fitDiagnosticsCR3_both.root\",\n",
    "\t\t\t   \"fitDiagnosticsCR4_both.root\", \"fitDiagnosticsCR5_both.root\", \"fitDiagnosticsCR6_both.root\", \"fitDiagnosticsCR7_both.root\",  \"fitDiagnosticsSR8_both.root\"]"
   ]
  },
  {
   "cell_type": "code",
   "execution_count": 9,
   "metadata": {},
   "outputs": [],
   "source": [
    "controlRegionDict ={\"SR8\":\"tight\", \"CR123\":\"looseCRge2e0\", \"AR\":\"looseCRge2ge0\", \"CR7\":\"looseCRe3ge2\", \"CR3\":\"looseCRge4e0\", \"CR2\":\"looseCRe3e0\", \n",
    "\t\t\t\t   \"CR4\":\"looseCRe2e1\", \"CR1\":\"looseCRe2e0\", \"CR6\":\"looseCRe2e2\", \"CR5\":\"looseCRe3e1\" }"
   ]
  },
  {
   "cell_type": "code",
   "execution_count": 10,
   "metadata": {},
   "outputs": [
    {
     "name": "stdout",
     "output_type": "stream",
     "text": [
      "\\hline\n",
      "Control Regions & ZJetsSF 2016 \\\\\n",
      "\\hline\n",
      "AR & $ 1.174 \\substack{ -0.002 \\\\ + 0.002 }$ \\\\\n",
      "CR123 & $ 1.174 \\substack{ -0.002 \\\\ + 0.002 }$ \\\\\n",
      "CR1 & $ 1.175 \\substack{ -0.003 \\\\ + 0.003 }$ \\\\\n",
      "CR2 & $ 1.2 \\substack{ -0.006 \\\\ + 0.006 }$ \\\\\n",
      "CR3 & $ 1.074 \\substack{ -0.009 \\\\ + 0.009 }$ \\\\\n",
      "CR4 & $ 1.188 \\substack{ -0.008 \\\\ + 0.009 }$ \\\\\n",
      "CR5 & $ 1.219 \\substack{ -0.016 \\\\ + 0.016 }$ \\\\\n",
      "CR6 & $ 1.205 \\substack{ -0.029 \\\\ + 0.03 }$ \\\\\n",
      "CR7 & $ 1.269 \\substack{ -0.044 \\\\ + 0.046 }$ \\\\\n",
      "SR8 & $ 1.185 \\substack{ -0.022 \\\\ + 0.022 }$ \\\\\n"
     ]
    }
   ],
   "source": [
    "print \"\\\\hline\"\n",
    "print \"Control Regions & ZJetsSF 2016 \\\\\\\\\"\n",
    "print \"\\\\hline\"\n",
    "for ifile in ListOfFiles:\n",
    "    itree = uproot.open(ifile)[\"tree_fit_sb\"]\n",
    "    print ifile[14:-10],\"&\",\"$\",round(itree.array(\"r\"),3),\"\\substack{\" ,-round(itree.array(\"rLoErr\"),3),\"\\\\\\\\\", \"+\",round(itree.array(\"rHiErr\"),3),\"}$ \\\\\\\\\""
   ]
  },
  {
   "cell_type": "code",
   "execution_count": 11,
   "metadata": {},
   "outputs": [
    {
     "name": "stdout",
     "output_type": "stream",
     "text": [
      "/uscms_data/d3/npoudyal/TTGammaSemiLeptonic13TeV/CMSSW_10_2_14/src/TTGammaSemiLep_13TeV/Plotting_Nabin/Plotting/CombineFitting/Datacard_ZJets_2016\r\n"
     ]
    }
   ],
   "source": [
    "!pwd\n",
    "# myArray = []\n",
    "line = \"\"\n",
    "for ifile in ListOfFiles:\n",
    "    itree = uproot.open(ifile)[\"tree_fit_sb\"]\n",
    "    line += \"ZJetSF_2016_%s = %.3f \\n\"%(controlRegionDict[ifile[14:-10]],itree.array(\"r\"))\n",
    "#     myArray.append(round(itree.array(\"r\"),3))\n",
    "# print myArray\n",
    "with open(\"ZJetSFvalues.py\",\"w\") as _file:\n",
    "    _file.write(line)"
   ]
  },
  {
   "cell_type": "code",
   "execution_count": 12,
   "metadata": {},
   "outputs": [
    {
     "name": "stdout",
     "output_type": "stream",
     "text": [
      "ZJetSF_2016_looseCRge2ge0 = 1.174 \r\n",
      "ZJetSF_2016_looseCRge2e0 = 1.174 \r\n",
      "ZJetSF_2016_looseCRe2e0 = 1.175 \r\n",
      "ZJetSF_2016_looseCRe3e0 = 1.200 \r\n",
      "ZJetSF_2016_looseCRge4e0 = 1.074 \r\n",
      "ZJetSF_2016_looseCRe2e1 = 1.188 \r\n",
      "ZJetSF_2016_looseCRe3e1 = 1.219 \r\n",
      "ZJetSF_2016_looseCRe2e2 = 1.205 \r\n",
      "ZJetSF_2016_looseCRe3ge2 = 1.269 \r\n",
      "ZJetSF_2016_tight = 1.185 \r\n"
     ]
    }
   ],
   "source": [
    "!cat ZJetSFvalues.py"
   ]
  },
  {
   "cell_type": "code",
   "execution_count": null,
   "metadata": {},
   "outputs": [],
   "source": []
  }
 ],
 "metadata": {
  "kernelspec": {
   "display_name": "Python 2",
   "language": "python",
   "name": "python2"
  },
  "language_info": {
   "codemirror_mode": {
    "name": "ipython",
    "version": 2
   },
   "file_extension": ".py",
   "mimetype": "text/x-python",
   "name": "python",
   "nbconvert_exporter": "python",
   "pygments_lexer": "ipython2",
   "version": "2.7.14+"
  }
 },
 "nbformat": 4,
 "nbformat_minor": 2
}
