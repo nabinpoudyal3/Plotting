{
 "cells": [
  {
   "cell_type": "code",
   "execution_count": 168,
   "metadata": {},
   "outputs": [],
   "source": [
    "from __future__ import print_function\n",
    "import ROOT\n",
    "import numpy\n",
    "import array"
   ]
  },
  {
   "cell_type": "code",
   "execution_count": 169,
   "metadata": {},
   "outputs": [],
   "source": [
    "# ListOfFiles = [\"fitDiagnostics0.2.root\", \n",
    "#                \"fitDiagnostics0.3.root\",  \n",
    "#                \"fitDiagnostics0.4.root\", \n",
    "#                \"fitDiagnostics0.5.root\",\n",
    "#                \"fitDiagnostics0.6.root\",\n",
    "#                \"fitDiagnostics0.7.root\", \n",
    "#                \"fitDiagnostics0.8.root\",  \n",
    "#                \"fitDiagnostics0.9.root\", \n",
    "#                \"fitDiagnostics1.0.root\",\n",
    "#                \"fitDiagnostics1.1.root\",\n",
    "#                \"fitDiagnostics1.2.root\", \n",
    "#                \"fitDiagnostics1.3.root\",  \n",
    "#                \"fitDiagnostics1.4.root\", \n",
    "#                \"fitDiagnostics1.5.root\",\n",
    "#                \"fitDiagnostics1.6.root\",\n",
    "#                \"fitDiagnostics1.7.root\", \n",
    "#                \"fitDiagnostics1.8.root\",  \n",
    "#                \"fitDiagnostics1.9.root\", \n",
    "#                \"fitDiagnostics2.0.root\"\n",
    "#               ]\n",
    "ListOfFiles = [\"fitDiagnostics0.2.root\", \n",
    "               \"fitDiagnostics0.4.root\", \n",
    "               \"fitDiagnostics0.6.root\",\n",
    "               \"fitDiagnostics0.8.root\",  \n",
    "               \"fitDiagnostics1.0.root\",\n",
    "               \"fitDiagnostics1.2.root\", \n",
    "               \"fitDiagnostics1.4.root\", \n",
    "               \"fitDiagnostics1.6.root\",\n",
    "               \"fitDiagnostics1.8.root\",  \n",
    "               \"fitDiagnostics2.0.root\"\n",
    "              ]"
   ]
  },
  {
   "cell_type": "code",
   "execution_count": 170,
   "metadata": {},
   "outputs": [
    {
     "name": "stderr",
     "output_type": "stream",
     "text": [
      "Warning in <TCanvas::Constructor>: Deleting canvas with same name: c1\n"
     ]
    }
   ],
   "source": [
    "c1 = ROOT.TCanvas( 'c1', 'measured vs expected signal strength', 200, 10, 700, 500 )\n",
    "c1.SetGrid()"
   ]
  },
  {
   "cell_type": "code",
   "execution_count": 171,
   "metadata": {},
   "outputs": [],
   "source": [
    "xData = list(numpy.arange(0.2,2.1,0.2))\n",
    "yData = []\n",
    "n = len(x)\n",
    "errMinusData = []\n",
    "errPlusData = []\n",
    "for ifile in ListOfFiles:\n",
    "#     print (ifile[14:-5])\n",
    "    myfile = ROOT.TFile(ifile,\"read\")\n",
    "    if myfile.GetListOfKeys().Contains(\"fit_s\") is False:\n",
    "        print (ifile[14:-5], \"fit_s could not find. \")\n",
    "        continue\n",
    "    fit_s = myfile.Get(\"fit_s\")\n",
    "    yData.append(fit_s.floatParsFinal().find(\"r\").getVal())\n",
    "    errMinusData.append(abs(fit_s.floatParsFinal().find(\"r\").getErrorLo()))\n",
    "    errPlusData.append(fit_s.floatParsFinal().find(\"r\").getErrorHi())\n",
    "\n",
    "#     yData.append(fit_s.floatParsFinal().find(\"nonPromptSF\").getVal())\n",
    "#     errMinusData.append(abs(fit_s.floatParsFinal().find(\"nonPromptSF\").getErrorLo()))\n",
    "#     errPlusData.append(fit_s.floatParsFinal().find(\"nonPromptSF\").getErrorHi())\n",
    "\n",
    "x = array.array( 'f', xData )\n",
    "y = array.array( 'f', yData )\n",
    "errMinus = array.array( 'f', errMinusData )\n",
    "errPlus  = array.array( 'f', errPlusData )\n"
   ]
  },
  {
   "cell_type": "code",
   "execution_count": 172,
   "metadata": {},
   "outputs": [
    {
     "name": "stderr",
     "output_type": "stream",
     "text": [
      "Info in <TCanvas::Print>: pdf file ttgammaToy_ttgamma.pdf has been created\n"
     ]
    },
    {
     "data": {
      "image/png": "[encoded data removed]",
      "text/plain": [
       "<IPython.core.display.Image object>"
      ]
     },
     "metadata": {},
     "output_type": "display_data"
    }
   ],
   "source": [
    "gr = ROOT.TGraphAsymmErrors( n, x, y, errMinus, errPlus)\n",
    "gr.SetTitle('Toy fitting of for tt#gamma signal strength with 200 iteration')\n",
    "gr.GetXaxis().SetTitle(\"Expected tt#gamma strength\");\n",
    "gr.GetYaxis().SetTitle(\"Measured tt#gamma strength\");\n",
    "gr.SetMarkerColor(2)\n",
    "gr.SetMarkerStyle(7)\n",
    "# gr.SetMarkerSize(3)\n",
    "gr.Draw('AP')\n",
    "c1.Draw()\n",
    "c1.Print(\"ttgammaToy_ttgamma.pdf\")"
   ]
  },
  {
   "cell_type": "code",
   "execution_count": 173,
   "metadata": {},
   "outputs": [],
   "source": [
    "xData1 = list(numpy.arange(0.2,2.1,0.2))\n",
    "yData1 = []\n",
    "n1 = len(x)\n",
    "errMinusData1 = []\n",
    "errPlusData1 = []\n",
    "for ifile in ListOfFiles:\n",
    "#     print (ifile[14:-5])\n",
    "    myfile = ROOT.TFile(ifile,\"read\")\n",
    "    if myfile.GetListOfKeys().Contains(\"fit_s\") is False:\n",
    "        print (ifile[14:-5], \"fit_s could not find. \")\n",
    "        continue\n",
    "    fit_s = myfile.Get(\"fit_s\")\n",
    "    yData1.append(fit_s.floatParsFinal().find(\"nonPromptSF\").getVal())\n",
    "    errMinusData1.append(abs(fit_s.floatParsFinal().find(\"nonPromptSF\").getErrorLo()))\n",
    "    errPlusData1.append(fit_s.floatParsFinal().find(\"nonPromptSF\").getErrorHi())\n",
    "\n",
    "x = array.array( 'f', xData1 )\n",
    "y = array.array( 'f', yData1 )\n",
    "errMinus = array.array( 'f', errMinusData1 )\n",
    "errPlus  = array.array( 'f', errPlusData1 )"
   ]
  },
  {
   "cell_type": "code",
   "execution_count": 175,
   "metadata": {},
   "outputs": [
    {
     "name": "stderr",
     "output_type": "stream",
     "text": [
      "Info in <TCanvas::Print>: pdf file ttgammaToy_nonPrompt.pdf has been created\n"
     ]
    },
    {
     "data": {
      "image/png": "[encoded data removed]",
      "text/plain": [
       "<IPython.core.display.Image object>"
      ]
     },
     "metadata": {},
     "output_type": "display_data"
    }
   ],
   "source": [
    "gr = ROOT.TGraphAsymmErrors( n, x, y, errMinus, errPlus)\n",
    "gr.SetTitle('Toy fitting of for nonPrompt SF with 200 iteration')\n",
    "gr.GetXaxis().SetTitle(\"Expected tt#gamma strength\");\n",
    "gr.GetYaxis().SetTitle(\"Measured nonPrompt strength\");\n",
    "gr.SetMarkerColor(2)\n",
    "gr.SetMarkerStyle(7)\n",
    "# gr.SetMarkerSize(3)\n",
    "gr.Draw('AP')\n",
    "c1.Draw()\n",
    "c1.Print(\"ttgammaToy_nonPrompt.pdf\")"
   ]
  },
  {
   "cell_type": "code",
   "execution_count": null,
   "metadata": {},
   "outputs": [],
   "source": []
  }
 ],
 "metadata": {
  "kernelspec": {
   "display_name": "Python 2",
   "language": "python",
   "name": "python2"
  },
  "language_info": {
   "codemirror_mode": {
    "name": "ipython",
    "version": 2
   },
   "file_extension": ".py",
   "mimetype": "text/x-python",
   "name": "python",
   "nbconvert_exporter": "python",
   "pygments_lexer": "ipython2",
   "version": "2.7.14+"
  }
 },
 "nbformat": 4,
 "nbformat_minor": 2
}
