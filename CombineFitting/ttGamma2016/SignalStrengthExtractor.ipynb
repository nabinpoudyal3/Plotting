{
 "cells": [
  {
   "cell_type": "code",
   "execution_count": 105,
   "metadata": {},
   "outputs": [
    {
     "name": "stdout",
     "output_type": "stream",
     "text": [
      "/uscms_data/d3/npoudyal/TTGammaSemiLeptonic13TeV/CMSSW_10_2_14/src/TTGammaSemiLep_13TeV/Plotting_Nabin/Plotting/CombineFitting/MisIDEleFittingSystematicsSeparateYear\r\n"
     ]
    }
   ],
   "source": [
    "import ROOT\n",
    "!pwd"
   ]
  },
  {
   "cell_type": "code",
   "execution_count": 106,
   "metadata": {},
   "outputs": [],
   "source": [
    "# !./runFitting_nBinss.sh"
   ]
  },
  {
   "cell_type": "code",
   "execution_count": 118,
   "metadata": {},
   "outputs": [],
   "source": [
    "ListOfFiles2016 = [\"higgsCombineele_2016.MultiDimFit.mH120.1.root\", \n",
    "                   \"higgsCombinemu_2016.MultiDimFit.mH120.1.root\"\n",
    "                  ]\n",
    "\n",
    "ListOfFiles2017 = [\"higgsCombineele_2017.MultiDimFit.mH120.1.root\", \n",
    "                   \"higgsCombinemu_2017.MultiDimFit.mH120.1.root\"\n",
    "                  ]\n",
    "\n",
    "ListOfFiles2018 = [\"higgsCombineele_2018.MultiDimFit.mH120.1.root\", \n",
    "                   \"higgsCombinemu_2018.MultiDimFit.mH120.1.root\"\n",
    "                  ]\n",
    "\n",
    "\n"
   ]
  },
  {
   "cell_type": "code",
   "execution_count": 119,
   "metadata": {},
   "outputs": [],
   "source": [
    "controlRegionDict ={\"SR8\":\"tight\", \"CR123\":\"looseCRge2e0\", \"AR\":\"looseCRge2ge0\", \"CR7\":\"looseCRe3ge2\", \"CR3\":\"looseCRge4e0\", \"CR2\":\"looseCRe3e0\", \n",
    "\t\t\t\t   \"CR4\":\"looseCRe2e1\", \"CR1\":\"looseCRe2e0\", \"CR6\":\"looseCRe2e2\", \"CR5\":\"looseCRe3e1\" }\n",
    "\n",
    "\n",
    "CRDictMisID ={\"SR8\":\"misIDsfSReight\", \"CR123\":\"misIDsfCRall\", \"CR7\":\"misIDsfCRseven\", \"CR3\":\"misIDsfCRthree\", \"CR2\":\"misIDsfCRtwo\", \n",
    "\t\t \"CR4\":\"misIDsfCRfour\", \"CR1\":\"misIDsfCRone\", \"CR6\":\"misIDsfCRsix\", \"CR5\":\"misIDsfCRfive\" }\n",
    "\n",
    "CRDictZGamma ={\"SR8\":\"zGammasfSReight\", \"CR123\":\"zGammasfCRall\", \"CR7\":\"zGammasfCRseven\", \"CR3\":\"zGammasfCRthree\", \"CR2\":\"zGammasfCRtwo\", \n",
    "\t\t \"CR4\":\"zGammasfCRfour\", \"CR1\":\"zGammasfCRone\", \"CR6\":\"zGammasfCRsix\", \"CR5\":\"zGammasfCRfive\" }\n",
    "\n",
    "CRDictWGamma ={\"SR8\":\"wGammasfSReight\", \"CR123\":\"wGammasfCRall\", \"CR7\":\"wGammasfCRseven\", \"CR3\":\"wGammasfCRthree\", \"CR2\":\"wGammasfCRtwo\", \n",
    "\t\t \"CR4\":\"wGammasfCRfour\", \"CR1\":\"wGammasfCRone\", \"CR6\":\"wGammasfCRsix\", \"CR5\":\"wGammasfCRfive\" }\n",
    "\n",
    "\n",
    "\n"
   ]
  },
  {
   "cell_type": "code",
   "execution_count": 120,
   "metadata": {},
   "outputs": [],
   "source": [
    "line = \"\"\n",
    "for ifile in ListOfFiles2016:\n",
    "    myfile = ROOT.TFile(ifile,\"read\")\n",
    "    mytree=myfile.limit\n",
    "    mytree.Draw(\"r>>hist1\")\n",
    "    hist1 = ROOT.gDirectory.Get('hist1')\n",
    "    mytree.Draw(\"nonPromptSF>>hist2\")\n",
    "    hist2 = ROOT.gDirectory.Get('hist2')\n",
    "\n",
    "    line +=   \"ttgammaSF_2016_%s_%s = %.3f \\n\"%(controlRegionDict[ifile[12:17]],ifile[28],hist1.GetMean())\n",
    "    line += \"nonPromptSF_2016_%s_%s = %.3f \\n\"%(controlRegionDict[ifile[12:17]],ifile[28],hist2.GetMean())\n",
    "\n",
    "for ifile in ListOfFiles2017:\n",
    "    myfile = ROOT.TFile(ifile,\"read\")\n",
    "    mytree=myfile.limit\n",
    "    mytree.Draw(\"r>>hist1\")\n",
    "    hist1 = ROOT.gDirectory.Get('hist1')\n",
    "    mytree.Draw(\"nonPromptSF>>hist2\")\n",
    "    hist2 = ROOT.gDirectory.Get('hist2')\n",
    "\n",
    "\n",
    "    line +=   \"ttgammaSF_2017_%s_%s = %.3f \\n\"%(controlRegionDict[ifile[12:17]],ifile[28],hist1.GetMean())\n",
    "    line += \"nonPromptSF_2017_%s_%s = %.3f \\n\"%(controlRegionDict[ifile[12:17]],ifile[28],hist2.GetMean())\n",
    "\n",
    "for ifile in ListOfFiles2018:\n",
    "    myfile = ROOT.TFile(ifile,\"read\")\n",
    "    mytree=myfile.limit\n",
    "    mytree.Draw(\"r>>hist1\")\n",
    "    hist1 = ROOT.gDirectory.Get('hist1')\n",
    "    mytree.Draw(\"nonPromptSF>>hist2\")\n",
    "    hist2 = ROOT.gDirectory.Get('hist2')\n",
    "\n",
    "\n",
    "    line +=   \"ttgammaSF_2018_%s_%s = %.3f \\n\"%(controlRegionDict[ifile[12:17]],ifile[28],hist1.GetMean())\n",
    "    line += \"nonPromptSF_2018_%s_%s = %.3f \\n\"%(controlRegionDict[ifile[12:17]],ifile[28],hist2.GetMean())\n",
    "\n",
    "with open(\"MisIDEleSFvaluesForbins.py\",\"w\") as _file:\n",
    "    _file.write(line)\n",
    "\n",
    "\n",
    "    \n",
    "    \n",
    "# print line\n",
    "    \n",
    "    "
   ]
  },
  {
   "cell_type": "code",
   "execution_count": 121,
   "metadata": {},
   "outputs": [
    {
     "name": "stdout",
     "output_type": "stream",
     "text": [
      "MisIDEleSF_2016_looseCRge2e0_3 = 2.002 \r\n",
      "ZGammaSF_2016_looseCRge2e0_3 = 1.004 \r\n",
      "WGammaSF_2016_looseCRge2e0_3 = 0.998 \r\n",
      "MisIDEleSF_2016_looseCRge2e0_6 = 1.995 \r\n",
      "ZGammaSF_2016_looseCRge2e0_6 = 1.003 \r\n",
      "WGammaSF_2016_looseCRge2e0_6 = 0.993 \r\n",
      "MisIDEleSF_2016_looseCRge2e0_9 = 2.001 \r\n",
      "ZGammaSF_2016_looseCRge2e0_9 = 1.000 \r\n",
      "WGammaSF_2016_looseCRge2e0_9 = 0.999 \r\n",
      "MisIDEleSF_2017_looseCRge2e0_3 = 2.004 \r\n",
      "ZGammaSF_2017_looseCRge2e0_3 = 1.005 \r\n",
      "WGammaSF_2017_looseCRge2e0_3 = 0.998 \r\n",
      "MisIDEleSF_2017_looseCRge2e0_6 = 2.000 \r\n",
      "ZGammaSF_2017_looseCRge2e0_6 = 1.004 \r\n",
      "WGammaSF_2017_looseCRge2e0_6 = 0.990 \r\n",
      "MisIDEleSF_2017_looseCRge2e0_9 = 1.997 \r\n",
      "ZGammaSF_2017_looseCRge2e0_9 = 0.996 \r\n",
      "WGammaSF_2017_looseCRge2e0_9 = 0.992 \r\n",
      "MisIDEleSF_2018_looseCRge2e0_3 = 1.998 \r\n",
      "ZGammaSF_2018_looseCRge2e0_3 = 1.002 \r\n",
      "WGammaSF_2018_looseCRge2e0_3 = 0.991 \r\n",
      "MisIDEleSF_2018_looseCRge2e0_6 = 2.002 \r\n",
      "ZGammaSF_2018_looseCRge2e0_6 = 1.005 \r\n",
      "WGammaSF_2018_looseCRge2e0_6 = 0.990 \r\n",
      "MisIDEleSF_2018_looseCRge2e0_9 = 2.008 \r\n",
      "ZGammaSF_2018_looseCRge2e0_9 = 1.002 \r\n",
      "WGammaSF_2018_looseCRge2e0_9 = 1.002 \r\n"
     ]
    }
   ],
   "source": [
    "!cat MisIDEleSFvaluesForbins.py"
   ]
  },
  {
   "cell_type": "code",
   "execution_count": 111,
   "metadata": {},
   "outputs": [
    {
     "name": "stdout",
     "output_type": "stream",
     "text": [
      "MisIDEleSF_2016_looseCRge2e0_3 = 2.002 \r\n",
      "ZGammaSF_2016_looseCRge2e0_3 = 1.004 \r\n",
      "WGammaSF_2016_looseCRge2e0_3 = 0.998 \r\n",
      "MisIDEleSF_2016_looseCRge2e0_6 = 1.995 \r\n",
      "ZGammaSF_2016_looseCRge2e0_6 = 1.003 \r\n",
      "WGammaSF_2016_looseCRge2e0_6 = 0.993 \r\n",
      "MisIDEleSF_2016_looseCRge2e0_9 = 2.001 \r\n",
      "ZGammaSF_2016_looseCRge2e0_9 = 1.000 \r\n",
      "WGammaSF_2016_looseCRge2e0_9 = 0.999 \r\n",
      "MisIDEleSF_2017_looseCRge2e0_3 = 2.004 \r\n",
      "ZGammaSF_2017_looseCRge2e0_3 = 1.005 \r\n",
      "WGammaSF_2017_looseCRge2e0_3 = 0.998 \r\n",
      "MisIDEleSF_2017_looseCRge2e0_6 = 2.000 \r\n",
      "ZGammaSF_2017_looseCRge2e0_6 = 1.004 \r\n",
      "WGammaSF_2017_looseCRge2e0_6 = 0.990 \r\n",
      "MisIDEleSF_2017_looseCRge2e0_9 = 1.997 \r\n",
      "ZGammaSF_2017_looseCRge2e0_9 = 0.996 \r\n",
      "WGammaSF_2017_looseCRge2e0_9 = 0.992 \r\n",
      "MisIDEleSF_2018_looseCRge2e0_3 = 1.998 \r\n",
      "ZGammaSF_2018_looseCRge2e0_3 = 1.002 \r\n",
      "WGammaSF_2018_looseCRge2e0_3 = 0.991 \r\n",
      "MisIDEleSF_2018_looseCRge2e0_6 = 2.002 \r\n",
      "ZGammaSF_2018_looseCRge2e0_6 = 1.005 \r\n",
      "WGammaSF_2018_looseCRge2e0_6 = 0.990 \r\n",
      "MisIDEleSF_2018_looseCRge2e0_9 = 2.008 \r\n",
      "ZGammaSF_2018_looseCRge2e0_9 = 1.002 \r\n",
      "WGammaSF_2018_looseCRge2e0_9 = 1.002 \r\n"
     ]
    }
   ],
   "source": [
    "!cat MisIDEleSFvaluesForbins.py"
   ]
  },
  {
   "cell_type": "code",
   "execution_count": null,
   "metadata": {},
   "outputs": [],
   "source": []
  },
  {
   "cell_type": "code",
   "execution_count": 112,
   "metadata": {},
   "outputs": [
    {
     "name": "stdout",
     "output_type": "stream",
     "text": [
      "MisIDEleSF_2016_looseCRge2e0_3 = 2.002 \r\n",
      "ZGammaSF_2016_looseCRge2e0_3 = 1.004 \r\n",
      "WGammaSF_2016_looseCRge2e0_3 = 0.998 \r\n",
      "MisIDEleSF_2016_looseCRge2e0_6 = 1.995 \r\n",
      "ZGammaSF_2016_looseCRge2e0_6 = 1.003 \r\n",
      "WGammaSF_2016_looseCRge2e0_6 = 0.993 \r\n",
      "MisIDEleSF_2016_looseCRge2e0_9 = 2.001 \r\n",
      "ZGammaSF_2016_looseCRge2e0_9 = 1.000 \r\n",
      "WGammaSF_2016_looseCRge2e0_9 = 0.999 \r\n",
      "MisIDEleSF_2017_looseCRge2e0_3 = 2.004 \r\n",
      "ZGammaSF_2017_looseCRge2e0_3 = 1.005 \r\n",
      "WGammaSF_2017_looseCRge2e0_3 = 0.998 \r\n",
      "MisIDEleSF_2017_looseCRge2e0_6 = 2.000 \r\n",
      "ZGammaSF_2017_looseCRge2e0_6 = 1.004 \r\n",
      "WGammaSF_2017_looseCRge2e0_6 = 0.990 \r\n",
      "MisIDEleSF_2017_looseCRge2e0_9 = 1.997 \r\n",
      "ZGammaSF_2017_looseCRge2e0_9 = 0.996 \r\n",
      "WGammaSF_2017_looseCRge2e0_9 = 0.992 \r\n",
      "MisIDEleSF_2018_looseCRge2e0_3 = 1.998 \r\n",
      "ZGammaSF_2018_looseCRge2e0_3 = 1.002 \r\n",
      "WGammaSF_2018_looseCRge2e0_3 = 0.991 \r\n",
      "MisIDEleSF_2018_looseCRge2e0_6 = 2.002 \r\n",
      "ZGammaSF_2018_looseCRge2e0_6 = 1.005 \r\n",
      "WGammaSF_2018_looseCRge2e0_6 = 0.990 \r\n",
      "MisIDEleSF_2018_looseCRge2e0_9 = 2.008 \r\n",
      "ZGammaSF_2018_looseCRge2e0_9 = 1.002 \r\n",
      "WGammaSF_2018_looseCRge2e0_9 = 1.002 \r\n"
     ]
    }
   ],
   "source": [
    "!cat MisIDEleSFvaluesForbins.py\n",
    "\n",
    "# ## copy the file to plotting folder\n",
    "!cp MisIDEleSFvaluesForbins.py /uscms_data/d3/npoudyal/TTGammaSemiLeptonic13TeV/CMSSW_10_2_14/src/TTGammaSemiLep_13TeV/Plotting_Nabin/Plotting/"
   ]
  },
  {
   "cell_type": "code",
   "execution_count": 122,
   "metadata": {},
   "outputs": [
    {
     "name": "stdout",
     "output_type": "stream",
     "text": [
      "\\newcommand{\\misIDsfCRallSixteenthree} {\\ensuremath{2.002 \\substack{+0.098 \\\\ -0.098}}}\r\n",
      "\\newcommand{\\zGammasfCRallSixteenthree} {\\ensuremath{0.998 \\substack{+0.092 \\\\ -0.092}}}\r\n",
      "\\newcommand{\\wGammasfCRallSixteenthree} {\\ensuremath{1.004 \\substack{+0.075 \\\\ -0.075}}}\r\n",
      "\\newcommand{\\misIDsfCRallSixteensix} {\\ensuremath{1.995 \\substack{+0.093 \\\\ -0.093}}}\r\n",
      "\\newcommand{\\zGammasfCRallSixteensix} {\\ensuremath{0.993 \\substack{+0.086 \\\\ -0.086}}}\r\n",
      "\\newcommand{\\wGammasfCRallSixteensix} {\\ensuremath{1.003 \\substack{+0.076 \\\\ -0.076}}}\r\n",
      "\\newcommand{\\misIDsfCRallSixteennine} {\\ensuremath{2.001 \\substack{+0.090 \\\\ -0.090}}}\r\n",
      "\\newcommand{\\zGammasfCRallSixteennine} {\\ensuremath{0.999 \\substack{+0.068 \\\\ -0.068}}}\r\n",
      "\\newcommand{\\wGammasfCRallSixteennine} {\\ensuremath{1.000 \\substack{+0.058 \\\\ -0.058}}}\r\n",
      "\\newcommand{\\misIDsfCRallSeventeenthree} {\\ensuremath{2.004 \\substack{+0.125 \\\\ -0.125}}}\r\n",
      "\\newcommand{\\zGammasfCRallSeventeenthree} {\\ensuremath{0.998 \\substack{+0.116 \\\\ -0.116}}}\r\n",
      "\\newcommand{\\wGammasfCRallSeventeenthree} {\\ensuremath{1.005 \\substack{+0.098 \\\\ -0.098}}}\r\n",
      "\\newcommand{\\misIDsfCRallSeventeensix} {\\ensuremath{2.000 \\substack{+0.126 \\\\ -0.126}}}\r\n",
      "\\newcommand{\\zGammasfCRallSeventeensix} {\\ensuremath{0.990 \\substack{+0.120 \\\\ -0.120}}}\r\n",
      "\\newcommand{\\wGammasfCRallSeventeensix} {\\ensuremath{1.004 \\substack{+0.100 \\\\ -0.100}}}\r\n",
      "\\newcommand{\\misIDsfCRallSeventeennine} {\\ensuremath{1.997 \\substack{+0.126 \\\\ -0.126}}}\r\n",
      "\\newcommand{\\zGammasfCRallSeventeennine} {\\ensuremath{0.992 \\substack{+0.098 \\\\ -0.098}}}\r\n",
      "\\newcommand{\\wGammasfCRallSeventeennine} {\\ensuremath{0.996 \\substack{+0.090 \\\\ -0.090}}}\r\n",
      "\\newcommand{\\misIDsfCRallEighteenthree} {\\ensuremath{1.998 \\substack{+0.095 \\\\ -0.095}}}\r\n",
      "\\newcommand{\\zGammasfCRallEighteenthree} {\\ensuremath{0.991 \\substack{+0.088 \\\\ -0.088}}}\r\n",
      "\\newcommand{\\wGammasfCRallEighteenthree} {\\ensuremath{1.002 \\substack{+0.082 \\\\ -0.082}}}\r\n",
      "\\newcommand{\\misIDsfCRallEighteensix} {\\ensuremath{2.002 \\substack{+0.095 \\\\ -0.095}}}\r\n",
      "\\newcommand{\\zGammasfCRallEighteensix} {\\ensuremath{0.990 \\substack{+0.095 \\\\ -0.095}}}\r\n",
      "\\newcommand{\\wGammasfCRallEighteensix} {\\ensuremath{1.005 \\substack{+0.081 \\\\ -0.081}}}\r\n",
      "\\newcommand{\\misIDsfCRallEighteennine} {\\ensuremath{2.008 \\substack{+0.093 \\\\ -0.093}}}\r\n",
      "\\newcommand{\\zGammasfCRallEighteennine} {\\ensuremath{1.002 \\substack{+0.078 \\\\ -0.078}}}\r\n",
      "\\newcommand{\\wGammasfCRallEighteennine} {\\ensuremath{1.002 \\substack{+0.065 \\\\ -0.065}}}\r\n"
     ]
    }
   ],
   "source": [
    "binDict={'3':'three','6':'six','9':'nine'}\n",
    "line = \"\"\n",
    "for ifile in ListOfFiles2016:\n",
    "    myfile = ROOT.TFile(ifile,\"read\")\n",
    "    mytree=myfile.limit\n",
    "    mytree.Draw(\"r>>hist1\")\n",
    "    hist1 = ROOT.gDirectory.Get('hist1')\n",
    "    mytree.Draw(\"WGammaBkgPhotonSF>>hist2\")\n",
    "    hist2 = ROOT.gDirectory.Get('hist2')\n",
    "    mytree.Draw(\"ZGammaBkgPhotonSF>>hist3\")\n",
    "    hist3 = ROOT.gDirectory.Get('hist3')\n",
    "    line += \"\\\\newcommand{\\\\%s%s} {\\ensuremath{%.3f \\\\substack{+%.3f \\\\\\\\ -%.3f}}}\\n\"%(CRDictMisID[ifile[12:17]]+\"Sixteen\",binDict[ifile[28]],hist1.GetMean(), hist1.GetRMS(), hist1.GetRMS())\n",
    "    line += \"\\\\newcommand{\\\\%s%s} {\\ensuremath{%.3f \\\\substack{+%.3f \\\\\\\\ -%.3f}}}\\n\"%(CRDictZGamma[ifile[12:17]]+\"Sixteen\",binDict[ifile[28]],hist3.GetMean(), hist3.GetRMS(), hist3.GetRMS())\n",
    "    line += \"\\\\newcommand{\\\\%s%s} {\\ensuremath{%.3f \\\\substack{+%.3f \\\\\\\\ -%.3f}}}\\n\"%(CRDictWGamma[ifile[12:17]]+\"Sixteen\",binDict[ifile[28]],hist2.GetMean(), hist2.GetRMS(), hist2.GetRMS())\n",
    "\n",
    "for ifile in ListOfFiles2017:\n",
    "    myfile = ROOT.TFile(ifile,\"read\")\n",
    "    mytree=myfile.limit\n",
    "    mytree.Draw(\"r>>hist1\")\n",
    "    hist1 = ROOT.gDirectory.Get('hist1')\n",
    "    mytree.Draw(\"WGammaBkgPhotonSF>>hist2\")\n",
    "    hist2 = ROOT.gDirectory.Get('hist2')\n",
    "    mytree.Draw(\"ZGammaBkgPhotonSF>>hist3\")\n",
    "    hist3 = ROOT.gDirectory.Get('hist3')\n",
    "    line += \"\\\\newcommand{\\\\%s%s} {\\ensuremath{%.3f \\\\substack{+%.3f \\\\\\\\ -%.3f}}}\\n\"%(CRDictMisID[ifile[12:17]]+\"Seventeen\",binDict[ifile[28]],hist1.GetMean(), hist1.GetRMS(), hist1.GetRMS())\n",
    "    line += \"\\\\newcommand{\\\\%s%s} {\\ensuremath{%.3f \\\\substack{+%.3f \\\\\\\\ -%.3f}}}\\n\"%(CRDictZGamma[ifile[12:17]]+\"Seventeen\",binDict[ifile[28]],hist3.GetMean(), hist3.GetRMS(), hist3.GetRMS())\n",
    "    line += \"\\\\newcommand{\\\\%s%s} {\\ensuremath{%.3f \\\\substack{+%.3f \\\\\\\\ -%.3f}}}\\n\"%(CRDictWGamma[ifile[12:17]]+\"Seventeen\",binDict[ifile[28]],hist2.GetMean(), hist2.GetRMS(), hist2.GetRMS())\n",
    "\n",
    "for ifile in ListOfFiles2018:\n",
    "    myfile = ROOT.TFile(ifile,\"read\")\n",
    "    mytree=myfile.limit\n",
    "    mytree.Draw(\"r>>hist1\")\n",
    "    hist1 = ROOT.gDirectory.Get('hist1')\n",
    "    mytree.Draw(\"WGammaBkgPhotonSF>>hist2\")\n",
    "    hist2 = ROOT.gDirectory.Get('hist2')\n",
    "    mytree.Draw(\"ZGammaBkgPhotonSF>>hist3\")\n",
    "    hist3 = ROOT.gDirectory.Get('hist3')\n",
    "    line += \"\\\\newcommand{\\\\%s%s} {\\ensuremath{%.3f \\\\substack{+%.3f \\\\\\\\ -%.3f}}}\\n\"%(CRDictMisID[ifile[12:17]]+\"Eighteen\",binDict[ifile[28]],hist1.GetMean(), hist1.GetRMS(), hist1.GetRMS())\n",
    "    line += \"\\\\newcommand{\\\\%s%s} {\\ensuremath{%.3f \\\\substack{+%.3f \\\\\\\\ -%.3f}}}\\n\"%(CRDictZGamma[ifile[12:17]]+\"Eighteen\",binDict[ifile[28]],hist3.GetMean(), hist3.GetRMS(), hist3.GetRMS())\n",
    "    line += \"\\\\newcommand{\\\\%s%s} {\\ensuremath{%.3f \\\\substack{+%.3f \\\\\\\\ -%.3f}}}\\n\"%(CRDictWGamma[ifile[12:17]]+\"Eighteen\",binDict[ifile[28]],hist2.GetMean(), hist2.GetRMS(), hist2.GetRMS())\n",
    "\n",
    "  \n",
    "    \n",
    "with open(\"MisIDEleSFvaluesForbins.tex\",\"w\") as _file:\n",
    "    _file.write(line)\n",
    "\n",
    "!cat MisIDEleSFvaluesForbins.tex"
   ]
  },
  {
   "cell_type": "code",
   "execution_count": 123,
   "metadata": {},
   "outputs": [
    {
     "name": "stdout",
     "output_type": "stream",
     "text": [
      "\\newcommand{\\misIDsfCRallSixteenthree} {\\ensuremath{2.002 \\substack{+0.098 \\\\ -0.098}}}\r\n",
      "\\newcommand{\\zGammasfCRallSixteenthree} {\\ensuremath{0.998 \\substack{+0.092 \\\\ -0.092}}}\r\n",
      "\\newcommand{\\wGammasfCRallSixteenthree} {\\ensuremath{1.004 \\substack{+0.075 \\\\ -0.075}}}\r\n",
      "\\newcommand{\\misIDsfCRallSixteensix} {\\ensuremath{1.995 \\substack{+0.093 \\\\ -0.093}}}\r\n",
      "\\newcommand{\\zGammasfCRallSixteensix} {\\ensuremath{0.993 \\substack{+0.086 \\\\ -0.086}}}\r\n",
      "\\newcommand{\\wGammasfCRallSixteensix} {\\ensuremath{1.003 \\substack{+0.076 \\\\ -0.076}}}\r\n",
      "\\newcommand{\\misIDsfCRallSixteennine} {\\ensuremath{2.001 \\substack{+0.090 \\\\ -0.090}}}\r\n",
      "\\newcommand{\\zGammasfCRallSixteennine} {\\ensuremath{0.999 \\substack{+0.068 \\\\ -0.068}}}\r\n",
      "\\newcommand{\\wGammasfCRallSixteennine} {\\ensuremath{1.000 \\substack{+0.058 \\\\ -0.058}}}\r\n",
      "\\newcommand{\\misIDsfCRallSeventeenthree} {\\ensuremath{2.004 \\substack{+0.125 \\\\ -0.125}}}\r\n",
      "\\newcommand{\\zGammasfCRallSeventeenthree} {\\ensuremath{0.998 \\substack{+0.116 \\\\ -0.116}}}\r\n",
      "\\newcommand{\\wGammasfCRallSeventeenthree} {\\ensuremath{1.005 \\substack{+0.098 \\\\ -0.098}}}\r\n",
      "\\newcommand{\\misIDsfCRallSeventeensix} {\\ensuremath{2.000 \\substack{+0.126 \\\\ -0.126}}}\r\n",
      "\\newcommand{\\zGammasfCRallSeventeensix} {\\ensuremath{0.990 \\substack{+0.120 \\\\ -0.120}}}\r\n",
      "\\newcommand{\\wGammasfCRallSeventeensix} {\\ensuremath{1.004 \\substack{+0.100 \\\\ -0.100}}}\r\n",
      "\\newcommand{\\misIDsfCRallSeventeennine} {\\ensuremath{1.997 \\substack{+0.126 \\\\ -0.126}}}\r\n",
      "\\newcommand{\\zGammasfCRallSeventeennine} {\\ensuremath{0.992 \\substack{+0.098 \\\\ -0.098}}}\r\n",
      "\\newcommand{\\wGammasfCRallSeventeennine} {\\ensuremath{0.996 \\substack{+0.090 \\\\ -0.090}}}\r\n",
      "\\newcommand{\\misIDsfCRallEighteenthree} {\\ensuremath{1.998 \\substack{+0.095 \\\\ -0.095}}}\r\n",
      "\\newcommand{\\zGammasfCRallEighteenthree} {\\ensuremath{0.991 \\substack{+0.088 \\\\ -0.088}}}\r\n",
      "\\newcommand{\\wGammasfCRallEighteenthree} {\\ensuremath{1.002 \\substack{+0.082 \\\\ -0.082}}}\r\n",
      "\\newcommand{\\misIDsfCRallEighteensix} {\\ensuremath{2.002 \\substack{+0.095 \\\\ -0.095}}}\r\n",
      "\\newcommand{\\zGammasfCRallEighteensix} {\\ensuremath{0.990 \\substack{+0.095 \\\\ -0.095}}}\r\n",
      "\\newcommand{\\wGammasfCRallEighteensix} {\\ensuremath{1.005 \\substack{+0.081 \\\\ -0.081}}}\r\n",
      "\\newcommand{\\misIDsfCRallEighteennine} {\\ensuremath{2.008 \\substack{+0.093 \\\\ -0.093}}}\r\n",
      "\\newcommand{\\zGammasfCRallEighteennine} {\\ensuremath{1.002 \\substack{+0.078 \\\\ -0.078}}}\r\n",
      "\\newcommand{\\wGammasfCRallEighteennine} {\\ensuremath{1.002 \\substack{+0.065 \\\\ -0.065}}}\r\n"
     ]
    }
   ],
   "source": [
    "!cat MisIDEleSFvaluesForbins.tex\n",
    "\n",
    "# ## copy the file to plotting folder\n",
    "!cp MisIDEleSFvaluesForbins.tex ../AllTexFiles "
   ]
  },
  {
   "cell_type": "code",
   "execution_count": null,
   "metadata": {},
   "outputs": [],
   "source": []
  },
  {
   "cell_type": "code",
   "execution_count": null,
   "metadata": {},
   "outputs": [],
   "source": []
  },
  {
   "cell_type": "code",
   "execution_count": null,
   "metadata": {},
   "outputs": [],
   "source": []
  }
 ],
 "metadata": {
  "kernelspec": {
   "display_name": "Python 2",
   "language": "python",
   "name": "python2"
  },
  "language_info": {
   "codemirror_mode": {
    "name": "ipython",
    "version": 2
   },
   "file_extension": ".py",
   "mimetype": "text/x-python",
   "name": "python",
   "nbconvert_exporter": "python",
   "pygments_lexer": "ipython2",
   "version": "2.7.14+"
  }
 },
 "nbformat": 4,
 "nbformat_minor": 2
}
