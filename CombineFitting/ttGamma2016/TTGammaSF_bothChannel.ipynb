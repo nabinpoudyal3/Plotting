{
 "cells": [
  {
   "cell_type": "code",
   "execution_count": 9,
   "metadata": {},
   "outputs": [
    {
     "name": "stdout",
     "output_type": "stream",
     "text": [
      "/uscms_data/d3/npoudyal/TTGammaSemiLeptonic13TeV/Plotting/CombineFitting/ttGamma\r\n"
     ]
    }
   ],
   "source": [
    "import ROOT\n",
    "!pwd"
   ]
  },
  {
   "cell_type": "code",
   "execution_count": 10,
   "metadata": {},
   "outputs": [
    {
     "name": "stderr",
     "output_type": "stream",
     "text": [
      "Info in <TCanvas::MakeDefCanvas>:  created default TCanvas with name c1\n"
     ]
    }
   ],
   "source": [
    "mylist = [\"higgsCombineboth_2016.MultiDimFit.mH120.314159.root\", \n",
    "          \"higgsCombineboth_2017.MultiDimFit.mH120.314159.root\", \n",
    "          \"higgsCombineboth_2018.MultiDimFit.mH120.314159.root\", \n",
    "]\n",
    "\n",
    "line = \"\"\n",
    "for ifile in mylist:\n",
    "    myfile = ROOT.TFile(ifile,\"read\")\n",
    "    mytree=myfile.limit\n",
    "    mytree.Draw(\"r>>hist1\")\n",
    "    hist1 = ROOT.gDirectory.Get('hist1')\n",
    "    mytree.Draw(\"nonPromptSF>>hist2\")\n",
    "    hist2 = ROOT.gDirectory.Get('hist2')\n",
    "\n",
    "    line +=   \"ttgammaSF_%s = %.3f \\n\"%(ifile[17:21],hist1.GetMean())\n",
    "    line += \"nonPromptSF_%s = %.3f \\n\"%(ifile[17:21],hist2.GetMean())\n",
    "\n",
    "\n",
    "with open(\"TTGamma_nonPrompt_values_bothChannelSeparateYear.py\",\"w\") as _file:\n",
    "    _file.write(line)\n"
   ]
  },
  {
   "cell_type": "code",
   "execution_count": 11,
   "metadata": {},
   "outputs": [
    {
     "name": "stdout",
     "output_type": "stream",
     "text": [
      "ttgammaSF_2016 = 0.982 \r\n",
      "nonPromptSF_2016 = 1.060 \r\n",
      "ttgammaSF_2017 = 0.978 \r\n",
      "nonPromptSF_2017 = 1.078 \r\n",
      "ttgammaSF_2018 = 0.981 \r\n",
      "nonPromptSF_2018 = 1.075 \r\n"
     ]
    }
   ],
   "source": [
    "!cat TTGamma_nonPrompt_values_bothChannelSeparateYear.py"
   ]
  },
  {
   "cell_type": "code",
   "execution_count": 12,
   "metadata": {},
   "outputs": [],
   "source": [
    "# !cat MisIDEleSFvalues.py\n",
    "\n",
    "# ## copy the file to plotting folder\n",
    "!cp TTGamma_nonPrompt_values_bothChannelSeparateYear.py /uscms_data/d3/npoudyal/TTGammaSemiLeptonic13TeV/Plotting/"
   ]
  },
  {
   "cell_type": "code",
   "execution_count": 13,
   "metadata": {},
   "outputs": [
    {
     "name": "stdout",
     "output_type": "stream",
     "text": [
      "\\newcommand{\\ttgammaSFsixteen} {\\ensuremath{0.982 \\substack{+0.057 \\\\ -0.057}}}\r\n",
      "\\newcommand{\\nonPromptSFsixteen} {\\ensuremath{1.060 \\substack{+0.187 \\\\ -0.187}}}\r\n",
      "\\newcommand{\\ttgammaSFseventeen} {\\ensuremath{0.978 \\substack{+0.074 \\\\ -0.074}}}\r\n",
      "\\newcommand{\\nonPromptSFseventeen} {\\ensuremath{1.078 \\substack{+0.182 \\\\ -0.182}}}\r\n",
      "\\newcommand{\\ttgammaSFeightteen} {\\ensuremath{0.981 \\substack{+0.053 \\\\ -0.053}}}\r\n",
      "\\newcommand{\\nonPromptSFeightteen} {\\ensuremath{1.075 \\substack{+0.166 \\\\ -0.166}}}\r\n"
     ]
    }
   ],
   "source": [
    "line = \"\"\n",
    "\n",
    "for ifile in mylist:\n",
    "    myfile = ROOT.TFile(ifile,\"read\")\n",
    "    mytree=myfile.limit\n",
    "    mytree.Draw(\"r>>hist1\")\n",
    "    hist1 = ROOT.gDirectory.Get('hist1')\n",
    "    mytree.Draw(\"nonPromptSF>>hist2\")\n",
    "    hist2 = ROOT.gDirectory.Get('hist2')\n",
    "#     print ifile[15:-25]\n",
    "    if ifile[17:21]=='2016': year='sixteen'\n",
    "    elif ifile[17:21]=='2017': year='seventeen'\n",
    "    elif ifile[17:21]=='2018': year='eightteen'\n",
    "    \n",
    "    line +=   \"\\\\newcommand{\\\\ttgammaSF%s} {\\ensuremath{%.3f \\\\substack{+%.3f \\\\\\\\ -%.3f}}}\\n\"%(year,hist1.GetMean(),hist1.GetRMS(), hist1.GetRMS())\n",
    "    line +=   \"\\\\newcommand{\\\\nonPromptSF%s} {\\ensuremath{%.3f \\\\substack{+%.3f \\\\\\\\ -%.3f}}}\\n\"%(year,hist2.GetMean(),hist2.GetRMS(), hist2.GetRMS())\n",
    "\n",
    "with open(\"TTGamma_nonPrompt_values_bothChannelSeparateYear.tex\",\"w\") as _file:\n",
    "    _file.write(line)\n",
    "\n",
    "!cat TTGamma_nonPrompt_values_bothChannelSeparateYear.tex"
   ]
  },
  {
   "cell_type": "code",
   "execution_count": 14,
   "metadata": {},
   "outputs": [],
   "source": [
    "!cp TTGamma_nonPrompt_values_bothChannelSeparateYear.tex ../AllTexFiles "
   ]
  },
  {
   "cell_type": "code",
   "execution_count": null,
   "metadata": {},
   "outputs": [],
   "source": []
  }
 ],
 "metadata": {
  "kernelspec": {
   "display_name": "Python 2",
   "language": "python",
   "name": "python2"
  },
  "language_info": {
   "codemirror_mode": {
    "name": "ipython",
    "version": 2
   },
   "file_extension": ".py",
   "mimetype": "text/x-python",
   "name": "python",
   "nbconvert_exporter": "python",
   "pygments_lexer": "ipython2",
   "version": "2.7.14+"
  }
 },
 "nbformat": 4,
 "nbformat_minor": 2
}
