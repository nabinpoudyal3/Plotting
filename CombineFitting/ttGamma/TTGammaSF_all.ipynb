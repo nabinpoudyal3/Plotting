{
 "cells": [
  {
   "cell_type": "code",
   "execution_count": 1,
   "metadata": {},
   "outputs": [
    {
     "name": "stdout",
     "output_type": "stream",
     "text": [
      "Welcome to JupyROOT 6.12/07\n",
      "/uscms_data/d3/npoudyal/TTGammaSemiLeptonic13TeV/Plotting/CombineFitting/ttGamma\r\n"
     ]
    }
   ],
   "source": [
    "import ROOT\n",
    "!pwd"
   ]
  },
  {
   "cell_type": "code",
   "execution_count": 2,
   "metadata": {},
   "outputs": [
    {
     "name": "stdout",
     "output_type": "stream",
     "text": [
      "allyear\n",
      "ttgammaSF_allyear = 0.978 \r\n",
      "nonPromptSF_allyear = 1.001 \r\n"
     ]
    },
    {
     "name": "stderr",
     "output_type": "stream",
     "text": [
      "Info in <TCanvas::MakeDefCanvas>:  created default TCanvas with name c1\n"
     ]
    }
   ],
   "source": [
    "mylist = [\"higgsCombineboth_allyear.MultiDimFit.mH120.314159.root\"]\n",
    "\n",
    "line = \"\"\n",
    "for ifile in mylist:\n",
    "    print ifile[17:24]\n",
    "    myfile = ROOT.TFile(ifile,\"read\")\n",
    "    mytree=myfile.limit\n",
    "    mytree.Draw(\"r>>hist1\")\n",
    "    hist1 = ROOT.gDirectory.Get('hist1')\n",
    "    mytree.Draw(\"nonPromptSF>>hist2\")\n",
    "    hist2 = ROOT.gDirectory.Get('hist2')\n",
    "\n",
    "    line +=   \"ttgammaSF_%s = %.3f \\n\"%(ifile[17:24],hist1.GetMean())\n",
    "    line += \"nonPromptSF_%s = %.3f \\n\"%(ifile[17:24],hist2.GetMean())\n",
    "\n",
    "\n",
    "with open(\"TTGamma_nonPrompt_values_all.py\",\"w\") as _file:\n",
    "    _file.write(line)\n",
    "\n",
    "!cat TTGamma_nonPrompt_values_all.py"
   ]
  },
  {
   "cell_type": "code",
   "execution_count": 3,
   "metadata": {},
   "outputs": [],
   "source": [
    "!cp TTGamma_nonPrompt_values_all.py /uscms_data/d3/npoudyal/TTGammaSemiLeptonic13TeV/Plotting/"
   ]
  },
  {
   "cell_type": "code",
   "execution_count": 4,
   "metadata": {},
   "outputs": [
    {
     "name": "stdout",
     "output_type": "stream",
     "text": [
      "\\newcommand{\\ttgammaSF} {\\ensuremath{0.978 \\substack{+0.055 \\\\ -0.055}}}\r\n",
      "\\newcommand{\\nonPromptSF} {\\ensuremath{1.001 \\substack{+0.007 \\\\ -0.007}}}\r\n"
     ]
    }
   ],
   "source": [
    "line = \"\"\n",
    "\n",
    "for ifile in mylist:\n",
    "    myfile = ROOT.TFile(ifile,\"read\")\n",
    "    mytree=myfile.limit\n",
    "    mytree.Draw(\"r>>hist1\")\n",
    "    hist1 = ROOT.gDirectory.Get('hist1')\n",
    "    mytree.Draw(\"nonPromptSF>>hist2\")\n",
    "    hist2 = ROOT.gDirectory.Get('hist2')\n",
    "    line +=   \"\\\\newcommand{\\\\ttgammaSF} {\\ensuremath{%.3f \\\\substack{+%.3f \\\\\\\\ -%.3f}}}\\n\"%(hist1.GetMean(),hist1.GetRMS(), hist1.GetRMS())\n",
    "    line +=   \"\\\\newcommand{\\\\nonPromptSF} {\\ensuremath{%.3f \\\\substack{+%.3f \\\\\\\\ -%.3f}}}\\n\"%(hist2.GetMean(),hist2.GetRMS(), hist2.GetRMS())\n",
    "\n",
    "with open(\"TTGamma_nonPrompt_values_all.tex\",\"w\") as _file:\n",
    "    _file.write(line)\n",
    "\n",
    "!cat TTGamma_nonPrompt_values_all.tex"
   ]
  },
  {
   "cell_type": "code",
   "execution_count": 5,
   "metadata": {},
   "outputs": [],
   "source": [
    "!cp TTGamma_nonPrompt_values_all.tex ../AllTexFiles "
   ]
  },
  {
   "cell_type": "code",
   "execution_count": null,
   "metadata": {},
   "outputs": [],
   "source": []
  }
 ],
 "metadata": {
  "kernelspec": {
   "display_name": "Python 2",
   "language": "python",
   "name": "python2"
  },
  "language_info": {
   "codemirror_mode": {
    "name": "ipython",
    "version": 2
   },
   "file_extension": ".py",
   "mimetype": "text/x-python",
   "name": "python",
   "nbconvert_exporter": "python",
   "pygments_lexer": "ipython2",
   "version": "2.7.14+"
  }
 },
 "nbformat": 4,
 "nbformat_minor": 2
}
