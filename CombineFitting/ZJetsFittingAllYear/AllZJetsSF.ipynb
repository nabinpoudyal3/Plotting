{
 "cells": [
  {
   "cell_type": "code",
   "execution_count": 24,
   "metadata": {},
   "outputs": [
    {
     "name": "stdout",
     "output_type": "stream",
     "text": [
      "/uscms_data/d3/npoudyal/TTGammaSemiLeptonic13TeV/Plotting/CombineFitting/ZJetsFittingAllYear\r\n"
     ]
    }
   ],
   "source": [
    "import uproot\n",
    "!pwd"
   ]
  },
  {
   "cell_type": "code",
   "execution_count": 25,
   "metadata": {},
   "outputs": [],
   "source": [
    "ListOfFiles2016 = [\"fitDiagnosticsCR123_2016.root\", \"fitDiagnosticsCR1_2016.root\",  \"fitDiagnosticsCR2_2016.root\", \"fitDiagnosticsCR3_2016.root\",\n",
    "\t\t\t   \"fitDiagnosticsCR4_2016.root\", \"fitDiagnosticsCR5_2016.root\", \"fitDiagnosticsCR6_2016.root\", \"fitDiagnosticsCR7_2016.root\",  \"fitDiagnosticsSR8_2016.root\"]\n",
    "\n",
    "\n",
    "ListOfFiles2017 = [\"fitDiagnosticsCR123_2017.root\", \"fitDiagnosticsCR1_2017.root\",  \"fitDiagnosticsCR2_2017.root\", \"fitDiagnosticsCR3_2017.root\",\n",
    "\t\t\t   \"fitDiagnosticsCR4_2017.root\", \"fitDiagnosticsCR5_2017.root\", \"fitDiagnosticsCR6_2017.root\", \"fitDiagnosticsCR7_2017.root\",  \"fitDiagnosticsSR8_2017.root\"]\n",
    "\n",
    "\n",
    "ListOfFiles2018 = [\"fitDiagnosticsCR123_2018.root\", \"fitDiagnosticsCR1_2018.root\",  \"fitDiagnosticsCR2_2018.root\", \"fitDiagnosticsCR3_2018.root\",\n",
    "\t\t\t   \"fitDiagnosticsCR4_2018.root\", \"fitDiagnosticsCR5_2018.root\", \"fitDiagnosticsCR6_2018.root\", \"fitDiagnosticsCR7_2018.root\",  \"fitDiagnosticsSR8_2018.root\"]"
   ]
  },
  {
   "cell_type": "code",
   "execution_count": 26,
   "metadata": {},
   "outputs": [],
   "source": [
    "controlRegionDict ={\"SR8\":\"tight\", \"CR123\":\"looseCRge2e0\", \"CR7\":\"looseCRe3ge2\", \"CR3\":\"looseCRge4e0\", \"CR2\":\"looseCRe3e0\", \n",
    "\t\t\t\t   \"CR4\":\"looseCRe2e1\", \"CR1\":\"looseCRe2e0\", \"CR6\":\"looseCRe2e2\", \"CR5\":\"looseCRe3e1\" }\n",
    "\n",
    "CRDict ={\"SR8\":\"zjetsfSReight\", \"CR123\":\"zjetsfCRall\", \"CR7\":\"zjetsfCRseven\", \"CR3\":\"zjetsfCRthree\", \"CR2\":\"zjetsfCRtwo\", \n",
    "\t\t \"CR4\":\"zjetsfCRfour\", \"CR1\":\"zjetsfCRone\", \"CR6\":\"zjetsfCRsix\", \"CR5\":\"zjetsfCRfive\" }"
   ]
  },
  {
   "cell_type": "code",
   "execution_count": 27,
   "metadata": {},
   "outputs": [
    {
     "name": "stdout",
     "output_type": "stream",
     "text": [
      "fitDiagnosticsCR123_2016.root\n",
      "fitDiagnosticsCR1_2016.root\n",
      "fitDiagnosticsCR2_2016.root\n",
      "fitDiagnosticsCR3_2016.root\n",
      "fitDiagnosticsCR4_2016.root\n",
      "fitDiagnosticsCR5_2016.root\n",
      "fitDiagnosticsCR6_2016.root\n",
      "fitDiagnosticsCR7_2016.root\n",
      "fitDiagnosticsSR8_2016.root\n",
      "fitDiagnosticsCR123_2017.root\n",
      "fitDiagnosticsCR1_2017.root\n",
      "fitDiagnosticsCR2_2017.root\n",
      "fitDiagnosticsCR3_2017.root\n",
      "fitDiagnosticsCR4_2017.root\n",
      "fitDiagnosticsCR5_2017.root\n",
      "fitDiagnosticsCR6_2017.root\n",
      "fitDiagnosticsCR7_2017.root\n",
      "fitDiagnosticsSR8_2017.root\n",
      "fitDiagnosticsCR123_2018.root\n",
      "fitDiagnosticsCR1_2018.root\n",
      "fitDiagnosticsCR2_2018.root\n",
      "fitDiagnosticsCR3_2018.root\n",
      "fitDiagnosticsCR4_2018.root\n",
      "fitDiagnosticsCR5_2018.root\n",
      "fitDiagnosticsCR6_2018.root\n",
      "fitDiagnosticsCR7_2018.root\n",
      "fitDiagnosticsSR8_2018.root\n"
     ]
    }
   ],
   "source": [
    "line = \"\"\n",
    "for ifile in ListOfFiles2016:\n",
    "    print ifile\n",
    "    itree = uproot.open(ifile)[\"tree_fit_sb\"]\n",
    "    line += \"ZJetSF_2016_%s = %.3f \\n\"%(controlRegionDict[ifile[14:-10]],itree.array(\"r\"))\n",
    "\n",
    "for ifile in ListOfFiles2017:\n",
    "    print ifile\n",
    "    itree = uproot.open(ifile)[\"tree_fit_sb\"]\n",
    "    line += \"ZJetSF_2017_%s = %.3f \\n\"%(controlRegionDict[ifile[14:-10]],itree.array(\"r\"))\n",
    "    \n",
    "for ifile in ListOfFiles2018:\n",
    "    print ifile\n",
    "    itree = uproot.open(ifile)[\"tree_fit_sb\"]\n",
    "    line += \"ZJetSF_2018_%s = %.3f \\n\"%(controlRegionDict[ifile[14:-10]],itree.array(\"r\"))\n",
    "    \n",
    "with open(\"ZJetSFvalues.py\",\"w\") as _file:\n",
    "    _file.write(line)\n",
    "## copy the file to plotting folder\n"
   ]
  },
  {
   "cell_type": "code",
   "execution_count": 28,
   "metadata": {},
   "outputs": [
    {
     "name": "stdout",
     "output_type": "stream",
     "text": [
      "ZJetSF_2016_looseCRge2e0 = 1.174 \r\n",
      "ZJetSF_2016_looseCRe2e0 = 1.175 \r\n",
      "ZJetSF_2016_looseCRe3e0 = 1.201 \r\n",
      "ZJetSF_2016_looseCRge4e0 = 1.074 \r\n",
      "ZJetSF_2016_looseCRe2e1 = 1.188 \r\n",
      "ZJetSF_2016_looseCRe3e1 = 1.217 \r\n",
      "ZJetSF_2016_looseCRe2e2 = 1.202 \r\n",
      "ZJetSF_2016_looseCRe3ge2 = 1.259 \r\n",
      "ZJetSF_2016_tight = 1.185 \r\n",
      "ZJetSF_2017_looseCRge2e0 = 1.247 \r\n",
      "ZJetSF_2017_looseCRe2e0 = 1.247 \r\n",
      "ZJetSF_2017_looseCRe3e0 = 1.255 \r\n",
      "ZJetSF_2017_looseCRge4e0 = 1.230 \r\n",
      "ZJetSF_2017_looseCRe2e1 = 1.279 \r\n",
      "ZJetSF_2017_looseCRe3e1 = 1.402 \r\n",
      "ZJetSF_2017_looseCRe2e2 = 1.157 \r\n",
      "ZJetSF_2017_looseCRe3ge2 = 1.255 \r\n",
      "ZJetSF_2017_tight = 1.431 \r\n",
      "ZJetSF_2018_looseCRge2e0 = 1.206 \r\n",
      "ZJetSF_2018_looseCRe2e0 = 1.210 \r\n",
      "ZJetSF_2018_looseCRe3e0 = 1.199 \r\n",
      "ZJetSF_2018_looseCRge4e0 = 1.178 \r\n",
      "ZJetSF_2018_looseCRe2e1 = 1.285 \r\n",
      "ZJetSF_2018_looseCRe3e1 = 1.419 \r\n",
      "ZJetSF_2018_looseCRe2e2 = 1.224 \r\n",
      "ZJetSF_2018_looseCRe3ge2 = 1.318 \r\n",
      "ZJetSF_2018_tight = 1.477 \r\n"
     ]
    }
   ],
   "source": [
    "!cat ZJetSFvalues.py"
   ]
  },
  {
   "cell_type": "code",
   "execution_count": 29,
   "metadata": {
    "scrolled": false
   },
   "outputs": [
    {
     "name": "stdout",
     "output_type": "stream",
     "text": [
      "ZJetSF_2016_looseCRge2e0 = 1.174 \r\n",
      "ZJetSF_2016_looseCRe2e0 = 1.175 \r\n",
      "ZJetSF_2016_looseCRe3e0 = 1.201 \r\n",
      "ZJetSF_2016_looseCRge4e0 = 1.074 \r\n",
      "ZJetSF_2016_looseCRe2e1 = 1.188 \r\n",
      "ZJetSF_2016_looseCRe3e1 = 1.217 \r\n",
      "ZJetSF_2016_looseCRe2e2 = 1.202 \r\n",
      "ZJetSF_2016_looseCRe3ge2 = 1.259 \r\n",
      "ZJetSF_2016_tight = 1.185 \r\n",
      "ZJetSF_2017_looseCRge2e0 = 1.247 \r\n",
      "ZJetSF_2017_looseCRe2e0 = 1.247 \r\n",
      "ZJetSF_2017_looseCRe3e0 = 1.255 \r\n",
      "ZJetSF_2017_looseCRge4e0 = 1.230 \r\n",
      "ZJetSF_2017_looseCRe2e1 = 1.279 \r\n",
      "ZJetSF_2017_looseCRe3e1 = 1.402 \r\n",
      "ZJetSF_2017_looseCRe2e2 = 1.157 \r\n",
      "ZJetSF_2017_looseCRe3ge2 = 1.255 \r\n",
      "ZJetSF_2017_tight = 1.431 \r\n",
      "ZJetSF_2018_looseCRge2e0 = 1.206 \r\n",
      "ZJetSF_2018_looseCRe2e0 = 1.210 \r\n",
      "ZJetSF_2018_looseCRe3e0 = 1.199 \r\n",
      "ZJetSF_2018_looseCRge4e0 = 1.178 \r\n",
      "ZJetSF_2018_looseCRe2e1 = 1.285 \r\n",
      "ZJetSF_2018_looseCRe3e1 = 1.419 \r\n",
      "ZJetSF_2018_looseCRe2e2 = 1.224 \r\n",
      "ZJetSF_2018_looseCRe3ge2 = 1.318 \r\n",
      "ZJetSF_2018_tight = 1.477 \r\n"
     ]
    }
   ],
   "source": [
    "!cat ZJetSFvalues.py"
   ]
  },
  {
   "cell_type": "code",
   "execution_count": 30,
   "metadata": {},
   "outputs": [],
   "source": [
    "!cp ZJetSFvalues.py /uscms_data/d3/npoudyal/TTGammaSemiLeptonic13TeV/Plotting"
   ]
  },
  {
   "cell_type": "code",
   "execution_count": 31,
   "metadata": {},
   "outputs": [],
   "source": [
    "line = \"\"\n",
    "\n",
    "for ifile in ListOfFiles2016:\n",
    "    itree = uproot.open(ifile)[\"tree_fit_sb\"]\n",
    "    line += \"\\\\newcommand{\\\\%s} {\\ensuremath{%.3f \\\\substack{+%.3f \\\\\\\\ -%.3f}}}\\n\"%(CRDict[ifile[14:-10]]+\"Sixteen\",itree.array(\"r\"),itree.array(\"rHiErr\"),itree.array(\"rLoErr\"))\n",
    "\n",
    "for ifile in ListOfFiles2017:\n",
    "    itree = uproot.open(ifile)[\"tree_fit_sb\"]\n",
    "    line += \"\\\\newcommand{\\\\%s} {\\ensuremath{%.3f \\\\substack{+%.3f \\\\\\\\ -%.3f}}}\\n\"%(CRDict[ifile[14:-10]]+\"Seventeen\",itree.array(\"r\"),itree.array(\"rHiErr\"),itree.array(\"rLoErr\"))\n",
    "\n",
    "for ifile in ListOfFiles2018:\n",
    "    itree = uproot.open(ifile)[\"tree_fit_sb\"]\n",
    "    line += \"\\\\newcommand{\\\\%s} {\\ensuremath{%.3f \\\\substack{+%.3f \\\\\\\\ -%.3f}}}\\n\"%(CRDict[ifile[14:-10]]+\"Eighteen\",itree.array(\"r\"),itree.array(\"rHiErr\"),itree.array(\"rLoErr\"))\n",
    "    \n",
    "with open(\"ZJetSFvalues.tex\",\"w\") as _file:\n",
    "    _file.write(line)\n",
    "## copy the file to plotting folder\n",
    "!cp ZJetSFvalues.tex ../AllTexFiles "
   ]
  },
  {
   "cell_type": "code",
   "execution_count": 32,
   "metadata": {
    "scrolled": true
   },
   "outputs": [
    {
     "name": "stdout",
     "output_type": "stream",
     "text": [
      "\\newcommand{\\zjetsfCRallSixteen} {\\ensuremath{1.174 \\substack{+0.002 \\\\ -0.002}}}\r\n",
      "\\newcommand{\\zjetsfCRoneSixteen} {\\ensuremath{1.175 \\substack{+0.003 \\\\ -0.003}}}\r\n",
      "\\newcommand{\\zjetsfCRtwoSixteen} {\\ensuremath{1.201 \\substack{+0.006 \\\\ -0.006}}}\r\n",
      "\\newcommand{\\zjetsfCRthreeSixteen} {\\ensuremath{1.074 \\substack{+0.009 \\\\ -0.009}}}\r\n",
      "\\newcommand{\\zjetsfCRfourSixteen} {\\ensuremath{1.188 \\substack{+0.009 \\\\ -0.008}}}\r\n",
      "\\newcommand{\\zjetsfCRfiveSixteen} {\\ensuremath{1.217 \\substack{+0.016 \\\\ -0.016}}}\r\n",
      "\\newcommand{\\zjetsfCRsixSixteen} {\\ensuremath{1.202 \\substack{+0.030 \\\\ -0.029}}}\r\n",
      "\\newcommand{\\zjetsfCRsevenSixteen} {\\ensuremath{1.259 \\substack{+0.046 \\\\ -0.044}}}\r\n",
      "\\newcommand{\\zjetsfSReightSixteen} {\\ensuremath{1.185 \\substack{+0.022 \\\\ -0.022}}}\r\n",
      "\\newcommand{\\zjetsfCRallSeventeen} {\\ensuremath{1.247 \\substack{+0.003 \\\\ -0.003}}}\r\n",
      "\\newcommand{\\zjetsfCRoneSeventeen} {\\ensuremath{1.247 \\substack{+0.003 \\\\ -0.003}}}\r\n",
      "\\newcommand{\\zjetsfCRtwoSeventeen} {\\ensuremath{1.255 \\substack{+0.006 \\\\ -0.006}}}\r\n",
      "\\newcommand{\\zjetsfCRthreeSeventeen} {\\ensuremath{1.230 \\substack{+0.012 \\\\ -0.011}}}\r\n",
      "\\newcommand{\\zjetsfCRfourSeventeen} {\\ensuremath{1.279 \\substack{+0.010 \\\\ -0.010}}}\r\n",
      "\\newcommand{\\zjetsfCRfiveSeventeen} {\\ensuremath{1.402 \\substack{+0.020 \\\\ -0.020}}}\r\n",
      "\\newcommand{\\zjetsfCRsixSeventeen} {\\ensuremath{1.157 \\substack{+0.029 \\\\ -0.028}}}\r\n",
      "\\newcommand{\\zjetsfCRsevenSeventeen} {\\ensuremath{1.255 \\substack{+0.046 \\\\ -0.044}}}\r\n",
      "\\newcommand{\\zjetsfSReightSeventeen} {\\ensuremath{1.431 \\substack{+0.030 \\\\ -0.029}}}\r\n",
      "\\newcommand{\\zjetsfCRallEighteen} {\\ensuremath{1.206 \\substack{+0.002 \\\\ -0.002}}}\r\n",
      "\\newcommand{\\zjetsfCRoneEighteen} {\\ensuremath{1.210 \\substack{+0.003 \\\\ -0.003}}}\r\n",
      "\\newcommand{\\zjetsfCRtwoEighteen} {\\ensuremath{1.199 \\substack{+0.006 \\\\ -0.006}}}\r\n",
      "\\newcommand{\\zjetsfCRthreeEighteen} {\\ensuremath{1.178 \\substack{+0.011 \\\\ -0.010}}}\r\n",
      "\\newcommand{\\zjetsfCRfourEighteen} {\\ensuremath{1.285 \\substack{+0.010 \\\\ -0.010}}}\r\n",
      "\\newcommand{\\zjetsfCRfiveEighteen} {\\ensuremath{1.419 \\substack{+0.020 \\\\ -0.019}}}\r\n",
      "\\newcommand{\\zjetsfCRsixEighteen} {\\ensuremath{1.224 \\substack{+0.029 \\\\ -0.028}}}\r\n",
      "\\newcommand{\\zjetsfCRsevenEighteen} {\\ensuremath{1.318 \\substack{+0.043 \\\\ -0.041}}}\r\n",
      "\\newcommand{\\zjetsfSReightEighteen} {\\ensuremath{1.477 \\substack{+0.030 \\\\ -0.029}}}\r\n"
     ]
    }
   ],
   "source": [
    "!cat ZJetSFvalues.tex "
   ]
  },
  {
   "cell_type": "code",
   "execution_count": null,
   "metadata": {},
   "outputs": [],
   "source": []
  }
 ],
 "metadata": {
  "kernelspec": {
   "display_name": "Python 2",
   "language": "python",
   "name": "python2"
  },
  "language_info": {
   "codemirror_mode": {
    "name": "ipython",
    "version": 2
   },
   "file_extension": ".py",
   "mimetype": "text/x-python",
   "name": "python",
   "nbconvert_exporter": "python",
   "pygments_lexer": "ipython2",
   "version": "2.7.14+"
  }
 },
 "nbformat": 4,
 "nbformat_minor": 2
}
