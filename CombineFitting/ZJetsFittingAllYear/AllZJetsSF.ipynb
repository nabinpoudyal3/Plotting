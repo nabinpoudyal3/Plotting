{
 "cells": [
  {
   "cell_type": "code",
   "execution_count": 41,
   "metadata": {},
   "outputs": [
    {
     "name": "stdout",
     "output_type": "stream",
     "text": [
      "/uscms_data/d3/npoudyal/TTGammaSemiLeptonic13TeV/Plotting/CombineFitting/ZJetsFittingAllYear\r\n"
     ]
    }
   ],
   "source": [
    "import uproot\n",
    "!pwd"
   ]
  },
  {
   "cell_type": "code",
   "execution_count": 42,
   "metadata": {},
   "outputs": [
    {
     "name": "stdout",
     "output_type": "stream",
     "text": [
      "-rw-r--r-- 1 npoudyal us_cms  99100 May  3 23:23 fitDiagnosticsCR123_2016.root\r\n",
      "-rw-r--r-- 1 npoudyal us_cms 124007 May  3 23:23 fitDiagnosticsCR1_2018.root\r\n",
      "-rw-r--r-- 1 npoudyal us_cms 124037 May  3 23:23 fitDiagnosticsCR6_2018.root\r\n",
      "-rw-r--r-- 1 npoudyal us_cms 124051 May  3 23:23 fitDiagnosticsCR123_2017.root\r\n",
      "-rw-r--r-- 1 npoudyal us_cms 123959 May  3 23:23 fitDiagnosticsCR5_2016.root\r\n",
      "-rw-r--r-- 1 npoudyal us_cms 124061 May  3 23:23 fitDiagnosticsCR1_2017.root\r\n",
      "-rw-r--r-- 1 npoudyal us_cms 124196 May  3 23:23 fitDiagnosticsCR7_2017.root\r\n",
      "-rw-r--r-- 1 npoudyal us_cms 124071 May  3 23:23 fitDiagnosticsCR4_2016.root\r\n",
      "-rw-r--r-- 1 npoudyal us_cms 124140 May  3 23:23 fitDiagnosticsCR123_2018.root\r\n",
      "-rw-r--r-- 1 npoudyal us_cms 123977 May  3 23:23 fitDiagnosticsCR5_2017.root\r\n",
      "-rw-r--r-- 1 npoudyal us_cms 124006 May  3 23:23 fitDiagnosticsCR2_2016.root\r\n",
      "-rw-r--r-- 1 npoudyal us_cms 124015 May  3 23:23 fitDiagnosticsCR6_2017.root\r\n",
      "-rw-r--r-- 1 npoudyal us_cms 124040 May  3 23:23 fitDiagnosticsCR4_2017.root\r\n",
      "-rw-r--r-- 1 npoudyal us_cms 124047 May  3 23:23 fitDiagnosticsCR3_2017.root\r\n",
      "-rw-r--r-- 1 npoudyal us_cms 123983 May  3 23:23 fitDiagnosticsCR7_2018.root\r\n",
      "-rw-r--r-- 1 npoudyal us_cms 124015 May  3 23:23 fitDiagnosticsCR1_2016.root\r\n",
      "-rw-r--r-- 1 npoudyal us_cms 124094 May  3 23:23 fitDiagnosticsCR2_2017.root\r\n",
      "-rw-r--r-- 1 npoudyal us_cms 124037 May  3 23:23 fitDiagnosticsCR3_2018.root\r\n",
      "-rw-r--r-- 1 npoudyal us_cms 123200 May  3 23:23 fitDiagnosticsCR2_2018.root\r\n",
      "-rw-r--r-- 1 npoudyal us_cms 123153 May  3 23:23 fitDiagnosticsCR4_2018.root\r\n",
      "-rw-r--r-- 1 npoudyal us_cms 124203 May  3 23:23 fitDiagnosticsCR6_2016.root\r\n",
      "-rw-r--r-- 1 npoudyal us_cms 124289 May  3 23:23 fitDiagnosticsCR7_2016.root\r\n",
      "-rw-r--r-- 1 npoudyal us_cms 124006 May  3 23:23 fitDiagnosticsCR5_2018.root\r\n",
      "-rw-r--r-- 1 npoudyal us_cms 124052 May  3 23:23 fitDiagnosticsCR3_2016.root\r\n"
     ]
    }
   ],
   "source": [
    "!ls -lrt fitDiagnosticsCR*.root"
   ]
  },
  {
   "cell_type": "code",
   "execution_count": 43,
   "metadata": {},
   "outputs": [],
   "source": [
    "ListOfFiles2016 = [\"fitDiagnosticsCR123_2016.root\", \"fitDiagnosticsCR1_2016.root\",  \"fitDiagnosticsCR2_2016.root\", \"fitDiagnosticsCR3_2016.root\",\n",
    "\t\t\t   \"fitDiagnosticsCR4_2016.root\", \"fitDiagnosticsCR5_2016.root\", \"fitDiagnosticsCR6_2016.root\", \"fitDiagnosticsCR7_2016.root\",  \"fitDiagnosticsSR8_2016.root\"]\n",
    "\n",
    "\n",
    "ListOfFiles2017 = [\"fitDiagnosticsCR123_2017.root\", \"fitDiagnosticsCR1_2017.root\",  \"fitDiagnosticsCR2_2017.root\", \"fitDiagnosticsCR3_2017.root\",\n",
    "\t\t\t   \"fitDiagnosticsCR4_2017.root\", \"fitDiagnosticsCR5_2017.root\", \"fitDiagnosticsCR6_2017.root\", \"fitDiagnosticsCR7_2017.root\",  \"fitDiagnosticsSR8_2017.root\"]\n",
    "\n",
    "\n",
    "ListOfFiles2018 = [\"fitDiagnosticsCR123_2018.root\", \"fitDiagnosticsCR1_2018.root\",  \"fitDiagnosticsCR2_2018.root\", \"fitDiagnosticsCR3_2018.root\",\n",
    "\t\t\t   \"fitDiagnosticsCR4_2018.root\", \"fitDiagnosticsCR5_2018.root\", \"fitDiagnosticsCR6_2018.root\", \"fitDiagnosticsCR7_2018.root\",  \"fitDiagnosticsSR8_2018.root\"]"
   ]
  },
  {
   "cell_type": "code",
   "execution_count": 44,
   "metadata": {},
   "outputs": [],
   "source": [
    "controlRegionDict ={\"SR8\":\"tight\", \"CR123\":\"looseCRge2e0\", \"CR7\":\"looseCRe3ge2\", \"CR3\":\"looseCRge4e0\", \"CR2\":\"looseCRe3e0\", \n",
    "\t\t\t\t   \"CR4\":\"looseCRe2e1\", \"CR1\":\"looseCRe2e0\", \"CR6\":\"looseCRe2e2\", \"CR5\":\"looseCRe3e1\" }\n",
    "\n",
    "CRDict ={\"SR8\":\"zjetsfSReight\", \"CR123\":\"zjetsfCRall\", \"CR7\":\"zjetsfCRseven\", \"CR3\":\"zjetsfCRthree\", \"CR2\":\"zjetsfCRtwo\", \n",
    "\t\t \"CR4\":\"zjetsfCRfour\", \"CR1\":\"zjetsfCRone\", \"CR6\":\"zjetsfCRsix\", \"CR5\":\"zjetsfCRfive\" }"
   ]
  },
  {
   "cell_type": "code",
   "execution_count": 45,
   "metadata": {},
   "outputs": [
    {
     "name": "stdout",
     "output_type": "stream",
     "text": [
      "fitDiagnosticsCR123_2016.root\n",
      "fitDiagnosticsCR1_2016.root\n",
      "fitDiagnosticsCR2_2016.root\n",
      "fitDiagnosticsCR3_2016.root\n",
      "fitDiagnosticsCR4_2016.root\n",
      "fitDiagnosticsCR5_2016.root\n",
      "fitDiagnosticsCR6_2016.root\n",
      "fitDiagnosticsCR7_2016.root\n",
      "fitDiagnosticsSR8_2016.root\n",
      "fitDiagnosticsCR123_2017.root\n",
      "fitDiagnosticsCR1_2017.root\n",
      "fitDiagnosticsCR2_2017.root\n",
      "fitDiagnosticsCR3_2017.root\n",
      "fitDiagnosticsCR4_2017.root\n",
      "fitDiagnosticsCR5_2017.root\n",
      "fitDiagnosticsCR6_2017.root\n",
      "fitDiagnosticsCR7_2017.root\n",
      "fitDiagnosticsSR8_2017.root\n",
      "fitDiagnosticsCR123_2018.root\n",
      "fitDiagnosticsCR1_2018.root\n",
      "fitDiagnosticsCR2_2018.root\n",
      "fitDiagnosticsCR3_2018.root\n",
      "fitDiagnosticsCR4_2018.root\n",
      "fitDiagnosticsCR5_2018.root\n",
      "fitDiagnosticsCR6_2018.root\n",
      "fitDiagnosticsCR7_2018.root\n",
      "fitDiagnosticsSR8_2018.root\n",
      "ZJetSF_2016_looseCRge2e0 = 1.153 \n",
      "ZJetSF_2016_looseCRe2e0 = 1.156 \n",
      "ZJetSF_2016_looseCRe3e0 = 1.192 \n",
      "ZJetSF_2016_looseCRge4e0 = 1.072 \n",
      "ZJetSF_2016_looseCRe2e1 = 1.200 \n",
      "ZJetSF_2016_looseCRe3e1 = 1.192 \n",
      "ZJetSF_2016_looseCRe2e2 = 1.223 \n",
      "ZJetSF_2016_looseCRe3ge2 = 1.291 \n",
      "ZJetSF_2016_tight = 1.219 \n",
      "ZJetSF_2017_looseCRge2e0 = 1.235 \n",
      "ZJetSF_2017_looseCRe2e0 = 1.246 \n",
      "ZJetSF_2017_looseCRe3e0 = 1.263 \n",
      "ZJetSF_2017_looseCRge4e0 = 1.239 \n",
      "ZJetSF_2017_looseCRe2e1 = 1.227 \n",
      "ZJetSF_2017_looseCRe3e1 = 1.397 \n",
      "ZJetSF_2017_looseCRe2e2 = 1.126 \n",
      "ZJetSF_2017_looseCRe3ge2 = 1.143 \n",
      "ZJetSF_2017_tight = 1.420 \n",
      "ZJetSF_2018_looseCRge2e0 = 1.178 \n",
      "ZJetSF_2018_looseCRe2e0 = 1.195 \n",
      "ZJetSF_2018_looseCRe3e0 = 1.195 \n",
      "ZJetSF_2018_looseCRge4e0 = 1.170 \n",
      "ZJetSF_2018_looseCRe2e1 = 1.309 \n",
      "ZJetSF_2018_looseCRe3e1 = 1.406 \n",
      "ZJetSF_2018_looseCRe2e2 = 1.200 \n",
      "ZJetSF_2018_looseCRe3ge2 = 1.255 \n",
      "ZJetSF_2018_tight = 1.410 \n"
     ]
    }
   ],
   "source": [
    "line = \"\"\n",
    "for ifile in ListOfFiles2016:\n",
    "    print ifile\n",
    "    itree = uproot.open(ifile)[\"tree_fit_sb\"]\n",
    "    line += \"ZJetSF_2016_%s = %.3f \\n\"%(controlRegionDict[ifile[14:-10]],itree.array(\"r\"))\n",
    "\n",
    "for ifile in ListOfFiles2017:\n",
    "    print ifile\n",
    "    itree = uproot.open(ifile)[\"tree_fit_sb\"]\n",
    "    line += \"ZJetSF_2017_%s = %.3f \\n\"%(controlRegionDict[ifile[14:-10]],itree.array(\"r\"))\n",
    "    \n",
    "for ifile in ListOfFiles2018:\n",
    "    print ifile\n",
    "    itree = uproot.open(ifile)[\"tree_fit_sb\"]\n",
    "    line += \"ZJetSF_2018_%s = %.3f \\n\"%(controlRegionDict[ifile[14:-10]],itree.array(\"r\"))\n",
    "    \n",
    "with open(\"ZJetSFvalues.py\",\"w\") as _file:\n",
    "    _file.write(line)\n",
    "## copy the file to plotting folder\n",
    "!cat ZJetSFvalues.py"
   ]
  },
  {
   "cell_type": "code",
   "execution_count": 46,
   "metadata": {},
   "outputs": [
    {
     "name": "stdout",
     "output_type": "stream",
     "text": [
      "ZJetSF_2016_looseCRge2e0 = 1.153 \r\n",
      "ZJetSF_2016_looseCRe2e0 = 1.156 \r\n",
      "ZJetSF_2016_looseCRe3e0 = 1.192 \r\n",
      "ZJetSF_2016_looseCRge4e0 = 1.072 \r\n",
      "ZJetSF_2016_looseCRe2e1 = 1.200 \r\n",
      "ZJetSF_2016_looseCRe3e1 = 1.192 \r\n",
      "ZJetSF_2016_looseCRe2e2 = 1.223 \r\n",
      "ZJetSF_2016_looseCRe3ge2 = 1.291 \r\n",
      "ZJetSF_2016_tight = 1.219 \r\n",
      "ZJetSF_2017_looseCRge2e0 = 1.235 \r\n",
      "ZJetSF_2017_looseCRe2e0 = 1.246 \r\n",
      "ZJetSF_2017_looseCRe3e0 = 1.263 \r\n",
      "ZJetSF_2017_looseCRge4e0 = 1.239 \r\n",
      "ZJetSF_2017_looseCRe2e1 = 1.227 \r\n",
      "ZJetSF_2017_looseCRe3e1 = 1.397 \r\n",
      "ZJetSF_2017_looseCRe2e2 = 1.126 \r\n",
      "ZJetSF_2017_looseCRe3ge2 = 1.143 \r\n",
      "ZJetSF_2017_tight = 1.420 \r\n",
      "ZJetSF_2018_looseCRge2e0 = 1.178 \r\n",
      "ZJetSF_2018_looseCRe2e0 = 1.195 \r\n",
      "ZJetSF_2018_looseCRe3e0 = 1.195 \r\n",
      "ZJetSF_2018_looseCRge4e0 = 1.170 \r\n",
      "ZJetSF_2018_looseCRe2e1 = 1.309 \r\n",
      "ZJetSF_2018_looseCRe3e1 = 1.406 \r\n",
      "ZJetSF_2018_looseCRe2e2 = 1.200 \r\n",
      "ZJetSF_2018_looseCRe3ge2 = 1.255 \r\n",
      "ZJetSF_2018_tight = 1.410 \r\n"
     ]
    }
   ],
   "source": [
    "!cat ZJetSFvalues.py"
   ]
  },
  {
   "cell_type": "code",
   "execution_count": 47,
   "metadata": {
    "scrolled": false
   },
   "outputs": [
    {
     "name": "stdout",
     "output_type": "stream",
     "text": [
      "ZJetSF_2016_looseCRge2e0 = 1.153 \r\n",
      "ZJetSF_2016_looseCRe2e0 = 1.156 \r\n",
      "ZJetSF_2016_looseCRe3e0 = 1.192 \r\n",
      "ZJetSF_2016_looseCRge4e0 = 1.072 \r\n",
      "ZJetSF_2016_looseCRe2e1 = 1.200 \r\n",
      "ZJetSF_2016_looseCRe3e1 = 1.192 \r\n",
      "ZJetSF_2016_looseCRe2e2 = 1.223 \r\n",
      "ZJetSF_2016_looseCRe3ge2 = 1.291 \r\n",
      "ZJetSF_2016_tight = 1.219 \r\n",
      "ZJetSF_2017_looseCRge2e0 = 1.235 \r\n",
      "ZJetSF_2017_looseCRe2e0 = 1.246 \r\n",
      "ZJetSF_2017_looseCRe3e0 = 1.263 \r\n",
      "ZJetSF_2017_looseCRge4e0 = 1.239 \r\n",
      "ZJetSF_2017_looseCRe2e1 = 1.227 \r\n",
      "ZJetSF_2017_looseCRe3e1 = 1.397 \r\n",
      "ZJetSF_2017_looseCRe2e2 = 1.126 \r\n",
      "ZJetSF_2017_looseCRe3ge2 = 1.143 \r\n",
      "ZJetSF_2017_tight = 1.420 \r\n",
      "ZJetSF_2018_looseCRge2e0 = 1.178 \r\n",
      "ZJetSF_2018_looseCRe2e0 = 1.195 \r\n",
      "ZJetSF_2018_looseCRe3e0 = 1.195 \r\n",
      "ZJetSF_2018_looseCRge4e0 = 1.170 \r\n",
      "ZJetSF_2018_looseCRe2e1 = 1.309 \r\n",
      "ZJetSF_2018_looseCRe3e1 = 1.406 \r\n",
      "ZJetSF_2018_looseCRe2e2 = 1.200 \r\n",
      "ZJetSF_2018_looseCRe3ge2 = 1.255 \r\n",
      "ZJetSF_2018_tight = 1.410 \r\n"
     ]
    }
   ],
   "source": [
    "!cat ZJetSFvalues.py"
   ]
  },
  {
   "cell_type": "code",
   "execution_count": 48,
   "metadata": {},
   "outputs": [],
   "source": [
    "!cp ZJetSFvalues.py /uscms_data/d3/npoudyal/TTGammaSemiLeptonic13TeV/Plotting"
   ]
  },
  {
   "cell_type": "code",
   "execution_count": 49,
   "metadata": {},
   "outputs": [],
   "source": [
    "line = \"\"\n",
    "\n",
    "for ifile in ListOfFiles2016:\n",
    "    itree = uproot.open(ifile)[\"tree_fit_sb\"]\n",
    "    line += \"\\\\newcommand{\\\\%s} {\\ensuremath{%.3f \\\\substack{+%.3f \\\\\\\\ -%.3f}}}\\n\"%(CRDict[ifile[14:-10]]+\"Sixteen\",itree.array(\"r\"),itree.array(\"rHiErr\"),itree.array(\"rLoErr\"))\n",
    "\n",
    "for ifile in ListOfFiles2017:\n",
    "    itree = uproot.open(ifile)[\"tree_fit_sb\"]\n",
    "    line += \"\\\\newcommand{\\\\%s} {\\ensuremath{%.3f \\\\substack{+%.3f \\\\\\\\ -%.3f}}}\\n\"%(CRDict[ifile[14:-10]]+\"Seventeen\",itree.array(\"r\"),itree.array(\"rHiErr\"),itree.array(\"rLoErr\"))\n",
    "\n",
    "for ifile in ListOfFiles2018:\n",
    "    itree = uproot.open(ifile)[\"tree_fit_sb\"]\n",
    "    line += \"\\\\newcommand{\\\\%s} {\\ensuremath{%.3f \\\\substack{+%.3f \\\\\\\\ -%.3f}}}\\n\"%(CRDict[ifile[14:-10]]+\"Eighteen\",itree.array(\"r\"),itree.array(\"rHiErr\"),itree.array(\"rLoErr\"))\n",
    "    \n",
    "with open(\"ZJetSFvalues.tex\",\"w\") as _file:\n",
    "    _file.write(line)\n",
    "## copy the file to plotting folder\n",
    "!cp ZJetSFvalues.tex ../AllTexFiles "
   ]
  },
  {
   "cell_type": "code",
   "execution_count": 50,
   "metadata": {
    "scrolled": true
   },
   "outputs": [
    {
     "name": "stdout",
     "output_type": "stream",
     "text": [
      "\\newcommand{\\zjetsfCRallSixteen} {\\ensuremath{1.153 \\substack{+0.031 \\\\ -1.153}}}\r\n",
      "\\newcommand{\\zjetsfCRoneSixteen} {\\ensuremath{1.156 \\substack{+0.031 \\\\ -0.030}}}\r\n",
      "\\newcommand{\\zjetsfCRtwoSixteen} {\\ensuremath{1.192 \\substack{+0.033 \\\\ -0.033}}}\r\n",
      "\\newcommand{\\zjetsfCRthreeSixteen} {\\ensuremath{1.072 \\substack{+0.032 \\\\ -0.031}}}\r\n",
      "\\newcommand{\\zjetsfCRfourSixteen} {\\ensuremath{1.200 \\substack{+0.049 \\\\ -0.047}}}\r\n",
      "\\newcommand{\\zjetsfCRfiveSixteen} {\\ensuremath{1.192 \\substack{+0.053 \\\\ -0.050}}}\r\n",
      "\\newcommand{\\zjetsfCRsixSixteen} {\\ensuremath{1.223 \\substack{+0.067 \\\\ -0.063}}}\r\n",
      "\\newcommand{\\zjetsfCRsevenSixteen} {\\ensuremath{1.291 \\substack{+0.087 \\\\ -0.081}}}\r\n",
      "\\newcommand{\\zjetsfSReightSixteen} {\\ensuremath{1.219 \\substack{+0.061 \\\\ -0.058}}}\r\n",
      "\\newcommand{\\zjetsfCRallSeventeen} {\\ensuremath{1.235 \\substack{+0.041 \\\\ -1.235}}}\r\n",
      "\\newcommand{\\zjetsfCRoneSeventeen} {\\ensuremath{1.246 \\substack{+0.041 \\\\ -1.246}}}\r\n",
      "\\newcommand{\\zjetsfCRtwoSeventeen} {\\ensuremath{1.263 \\substack{+0.041 \\\\ -0.040}}}\r\n",
      "\\newcommand{\\zjetsfCRthreeSeventeen} {\\ensuremath{1.239 \\substack{+0.042 \\\\ -0.040}}}\r\n",
      "\\newcommand{\\zjetsfCRfourSeventeen} {\\ensuremath{1.227 \\substack{+0.054 \\\\ -0.052}}}\r\n",
      "\\newcommand{\\zjetsfCRfiveSeventeen} {\\ensuremath{1.397 \\substack{+0.071 \\\\ -0.067}}}\r\n",
      "\\newcommand{\\zjetsfCRsixSeventeen} {\\ensuremath{1.126 \\substack{+0.062 \\\\ -0.059}}}\r\n",
      "\\newcommand{\\zjetsfCRsevenSeventeen} {\\ensuremath{1.143 \\substack{+0.080 \\\\ -0.074}}}\r\n",
      "\\newcommand{\\zjetsfSReightSeventeen} {\\ensuremath{1.420 \\substack{+0.083 \\\\ -0.077}}}\r\n",
      "\\newcommand{\\zjetsfCRallEighteen} {\\ensuremath{1.178 \\substack{+0.036 \\\\ -0.035}}}\r\n",
      "\\newcommand{\\zjetsfCRoneEighteen} {\\ensuremath{1.195 \\substack{+0.037 \\\\ -0.036}}}\r\n",
      "\\newcommand{\\zjetsfCRtwoEighteen} {\\ensuremath{1.195 \\substack{+0.038 \\\\ -0.037}}}\r\n",
      "\\newcommand{\\zjetsfCRthreeEighteen} {\\ensuremath{1.170 \\substack{+0.039 \\\\ -0.038}}}\r\n",
      "\\newcommand{\\zjetsfCRfourEighteen} {\\ensuremath{1.309 \\substack{+0.065 \\\\ -0.062}}}\r\n",
      "\\newcommand{\\zjetsfCRfiveEighteen} {\\ensuremath{1.406 \\substack{+0.080 \\\\ -0.075}}}\r\n",
      "\\newcommand{\\zjetsfCRsixEighteen} {\\ensuremath{1.200 \\substack{+0.066 \\\\ -0.062}}}\r\n",
      "\\newcommand{\\zjetsfCRsevenEighteen} {\\ensuremath{1.255 \\substack{+0.081 \\\\ -0.075}}}\r\n",
      "\\newcommand{\\zjetsfSReightEighteen} {\\ensuremath{1.410 \\substack{+0.087 \\\\ -0.081}}}\r\n"
     ]
    }
   ],
   "source": [
    "!cat ZJetSFvalues.tex "
   ]
  },
  {
   "cell_type": "code",
   "execution_count": null,
   "metadata": {},
   "outputs": [],
   "source": []
  },
  {
   "cell_type": "code",
   "execution_count": null,
   "metadata": {},
   "outputs": [],
   "source": []
  }
 ],
 "metadata": {
  "kernelspec": {
   "display_name": "Python 2",
   "language": "python",
   "name": "python2"
  },
  "language_info": {
   "codemirror_mode": {
    "name": "ipython",
    "version": 2
   },
   "file_extension": ".py",
   "mimetype": "text/x-python",
   "name": "python",
   "nbconvert_exporter": "python",
   "pygments_lexer": "ipython2",
   "version": "2.7.14+"
  }
 },
 "nbformat": 4,
 "nbformat_minor": 2
}
