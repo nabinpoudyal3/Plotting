{
 "cells": [
  {
   "cell_type": "code",
   "execution_count": 30,
   "metadata": {},
   "outputs": [
    {
     "name": "stdout",
     "output_type": "stream",
     "text": [
      "/uscms_data/d3/npoudyal/TTGammaSemiLeptonic13TeV/Plotting/CombineFitting/ZJetsFittingAllYear\n",
      "-rw-r--r-- 1 npoudyal us_cms 124026 May  4 16:40 fitDiagnosticsCR1_2018.root\n",
      "-rw-r--r-- 1 npoudyal us_cms 124018 May  4 16:40 fitDiagnosticsCR5_2018.root\n",
      "-rw-r--r-- 1 npoudyal us_cms 124289 May  4 16:40 fitDiagnosticsCR7_2016.root\n",
      "-rw-r--r-- 1 npoudyal us_cms 123988 May  4 16:40 fitDiagnosticsCR5_2017.root\n",
      "-rw-r--r-- 1 npoudyal us_cms 124028 May  4 16:40 fitDiagnosticsCR123_2017.root\n",
      "-rw-r--r-- 1 npoudyal us_cms 123987 May  4 16:40 fitDiagnosticsSR8_2018.root\n",
      "-rw-r--r-- 1 npoudyal us_cms 124061 May  4 16:40 fitDiagnosticsCR4_2017.root\n",
      "-rw-r--r-- 1 npoudyal us_cms 124173 May  4 16:40 fitDiagnosticsCR7_2017.root\n",
      "-rw-r--r-- 1 npoudyal us_cms 124094 May  4 16:40 fitDiagnosticsCR2_2017.root\n",
      "-rw-r--r-- 1 npoudyal us_cms 124230 May  4 16:40 fitDiagnosticsCR6_2016.root\n",
      "-rw-r--r-- 1 npoudyal us_cms 124125 May  4 16:40 fitDiagnosticsCR4_2016.root\n",
      "-rw-r--r-- 1 npoudyal us_cms 124018 May  4 16:40 fitDiagnosticsCR3_2017.root\n",
      "-rw-r--r-- 1 npoudyal us_cms 124052 May  4 16:40 fitDiagnosticsSR8_2016.root\n",
      "-rw-r--r-- 1 npoudyal us_cms 124066 May  4 16:40 fitDiagnosticsCR3_2018.root\n",
      "-rw-r--r-- 1 npoudyal us_cms 124021 May  4 16:40 fitDiagnosticsCR6_2017.root\n",
      "-rw-r--r-- 1 npoudyal us_cms 124015 May  4 16:40 fitDiagnosticsCR1_2016.root\n",
      "-rw-r--r-- 1 npoudyal us_cms 123988 May  4 16:40 fitDiagnosticsCR7_2018.root\n",
      "-rw-r--r-- 1 npoudyal us_cms 123977 May  4 16:40 fitDiagnosticsCR5_2016.root\n",
      "-rw-r--r-- 1 npoudyal us_cms 124040 May  4 16:40 fitDiagnosticsCR6_2018.root\n",
      "-rw-r--r-- 1 npoudyal us_cms 123949 May  4 16:40 fitDiagnosticsSR8_2017.root\n",
      "-rw-r--r-- 1 npoudyal us_cms 123164 May  4 16:40 fitDiagnosticsCR4_2018.root\n",
      "-rw-r--r-- 1 npoudyal us_cms 124061 May  4 16:40 fitDiagnosticsCR3_2016.root\n",
      "-rw-r--r-- 1 npoudyal us_cms 124136 May  4 16:40 fitDiagnosticsCR123_2018.root\n",
      "-rw-r--r-- 1 npoudyal us_cms 123987 May  4 16:40 fitDiagnosticsCR2_2016.root\n",
      "-rw-r--r-- 1 npoudyal us_cms 123209 May  4 16:40 fitDiagnosticsCR2_2018.root\n",
      "-rw-r--r-- 1 npoudyal us_cms 124036 May  4 16:40 fitDiagnosticsCR1_2017.root\n",
      "-rw-r--r-- 1 npoudyal us_cms  99065 May  5 10:44 fitDiagnosticsCR123_2016.root\n"
     ]
    }
   ],
   "source": [
    "import ROOT\n",
    "import numpy as np\n",
    "from matplotlib import pyplot as plt\n",
    "!pwd\n",
    "!ls -lrt fitDiag*.root"
   ]
  },
  {
   "cell_type": "code",
   "execution_count": 31,
   "metadata": {},
   "outputs": [],
   "source": [
    "ListOfFiles2016 = [\"fitDiagnosticsCR123_2016.root\", \"fitDiagnosticsCR1_2016.root\",  \"fitDiagnosticsCR4_2016.root\", \"fitDiagnosticsCR6_2016.root\",\n",
    "\t\t\t   \"fitDiagnosticsCR2_2016.root\", \"fitDiagnosticsCR5_2016.root\", \"fitDiagnosticsCR7_2016.root\", \"fitDiagnosticsCR3_2016.root\"]\n",
    "\n",
    "\n",
    "ListOfFiles2017 = [\"fitDiagnosticsCR123_2017.root\", \"fitDiagnosticsCR1_2017.root\",  \"fitDiagnosticsCR4_2017.root\", \"fitDiagnosticsCR6_2017.root\",\n",
    "\t\t\t   \"fitDiagnosticsCR2_2017.root\", \"fitDiagnosticsCR5_2017.root\", \"fitDiagnosticsCR7_2017.root\", \"fitDiagnosticsCR3_2017.root\"]\n",
    "\n",
    "ListOfFiles2018 = [\"fitDiagnosticsCR123_2018.root\", \"fitDiagnosticsCR1_2018.root\",  \"fitDiagnosticsCR4_2018.root\", \"fitDiagnosticsCR6_2018.root\",\n",
    "\t\t\t   \"fitDiagnosticsCR2_2018.root\", \"fitDiagnosticsCR5_2018.root\", \"fitDiagnosticsCR7_2018.root\", \"fitDiagnosticsCR3_2018.root\"]"
   ]
  },
  {
   "cell_type": "code",
   "execution_count": 32,
   "metadata": {},
   "outputs": [],
   "source": [
    "controlRegionDict ={\"SR8\":\"tight\", \"CR123\":\"looseCRge2e0\", \"CR7\":\"looseCRe3ge2\", \"CR3\":\"looseCRge4e0\", \"CR2\":\"looseCRe3e0\", \n",
    "\t\t\t\t   \"CR4\":\"looseCRe2e1\", \"CR1\":\"looseCRe2e0\", \"CR6\":\"looseCRe2e2\", \"CR5\":\"looseCRe3e1\" }\n",
    "\n",
    "CRDict ={\"SR8\":\"zjetsfSReight\", \"CR123\":\"zjetsfCRall\", \"CR7\":\"zjetsfCRseven\", \"CR3\":\"zjetsfCRthree\", \"CR2\":\"zjetsfCRtwo\", \n",
    "\t\t \"CR4\":\"zjetsfCRfour\", \"CR1\":\"zjetsfCRone\", \"CR6\":\"zjetsfCRsix\", \"CR5\":\"zjetsfCRfive\" }"
   ]
  },
  {
   "cell_type": "code",
   "execution_count": 33,
   "metadata": {},
   "outputs": [
    {
     "data": {
      "image/png": "[encoded data removed]",
      "text/plain": [
       "<matplotlib.figure.Figure at 0x7f16d43310d0>"
      ]
     },
     "metadata": {},
     "output_type": "display_data"
    }
   ],
   "source": [
    "# x = [2, 3, 4, 5,]\n",
    "# myCR = [\"N>=2,NB=0\", \"N=2,NB=0\", \"N=3,NB=0\", \"N>=4,NB=0\", \"N=2,NB=1\"]\n",
    "# myCR = [\"N>=2,NB=0\", \"N=2,NB=0\", \"N=3,NB=0\", \"N>=4,NB=0\"]\n",
    "x = [2, 3, 4, 5, 6, 7, 8, 9]\n",
    "myCR = [\"N>=2,NB=0\", \"N=2,NB=0\", \"N=2,NB=1\", \"N=2,NB=2\", \"N=3,NB=0\", \"N=3,NB=1\", \"N=3,NB>=2\",\"N>=4,NB=0\"]\n",
    "\n",
    "y =[]\n",
    "yerrUp = []\n",
    "yerrDo = []\n",
    "for ifile in ListOfFiles2016:\n",
    "    myfile = ROOT.TFile(ifile,\"read\")\n",
    "    if myfile.GetListOfKeys().Contains(\"fit_s\") is False:\n",
    "        print ifile[14:-10], \": Fit failed.\"\n",
    "        continue\n",
    "    fit_s = myfile.Get(\"fit_s\")\n",
    "    y.append(fit_s.floatParsFinal().find(\"r\").getVal())\n",
    "    yerrUp.append(fit_s.floatParsFinal().find(\"r\").getErrorHi())\n",
    "    yerrDo.append(fit_s.floatParsFinal().find(\"r\").getErrorLo())\n",
    "#     print fit_s.floatParsFinal().find(\"r\").getVal(),fit_s.floatParsFinal().find(\"r\").getErrorHi(),fit_s.floatParsFinal().find(\"r\").getErrorLo()\n",
    "#     print fit_s.floatParsFinal().find(\"ZGammaBkgPhotonSF\").getVal(),fit_s.floatParsFinal().find(\"r\").getErrorLo(),fit_s.floatParsFinal().find(\"ZGammaBkgPhotonSF\").getErrorHi()\n",
    "#     print fit_s.floatParsFinal().find(\"WGammaBkgPhotonSF\").getVal(),fit_s.floatParsFinal().find(\"r\").getErrorLo(),fit_s.floatParsFinal().find(\"WGammaBkgPhotonSF\").getErrorHi()\n",
    "fig = plt.figure(figsize=(12, 4))\n",
    "plt.errorbar(x, y, yerr=yerrUp, fmt='o')\n",
    "plt.xticks(x, myCR)\n",
    "plt.tick_params(axis='x', which='major', labelsize=10)\n",
    "plt.xlim(1,10)\n",
    "plt.ylim(0.8,1.5)\n",
    "plt.tight_layout()\n",
    "plt.grid()\n",
    "plt.ylabel('Zjets sf for 2016')\n",
    "plt.xlabel('Jet multipicity')\n",
    "plt.title('')\n",
    "plt.show()\n",
    "fig.savefig('ZJ16.pdf', bbox_inches=\"tight\", dpi=1200)"
   ]
  },
  {
   "cell_type": "code",
   "execution_count": 23,
   "metadata": {},
   "outputs": [
    {
     "data": {
      "image/png": "[encoded data removed]",
      "text/plain": [
       "<matplotlib.figure.Figure at 0x7f16d44dc050>"
      ]
     },
     "metadata": {},
     "output_type": "display_data"
    }
   ],
   "source": [
    "x = [2, 3, 4, 5, 6, 7, 8, 9]\n",
    "myCR = [\"N>=2,NB=0\", \"N=2,NB=0\", \"N=2,NB=1\", \"N=2,NB=2\", \"N=3,NB=0\", \"N=3,NB=1\", \"N=3,NB>=2\",\"N>=4,NB=0\"]\n",
    "\n",
    "y =[]\n",
    "yerrUp = []\n",
    "yerrDo = []\n",
    "for ifile in ListOfFiles2017:\n",
    "    myfile = ROOT.TFile(ifile,\"read\")\n",
    "    if myfile.GetListOfKeys().Contains(\"fit_s\") is False:\n",
    "        print ifile[14:-10], \": Fit failed.\"\n",
    "        continue\n",
    "    fit_s = myfile.Get(\"fit_s\")\n",
    "    y.append(fit_s.floatParsFinal().find(\"r\").getVal())\n",
    "    yerrUp.append(fit_s.floatParsFinal().find(\"r\").getErrorHi())\n",
    "    yerrDo.append(fit_s.floatParsFinal().find(\"r\").getErrorLo())\n",
    "#     print fit_s.floatParsFinal().find(\"r\").getVal(),fit_s.floatParsFinal().find(\"r\").getErrorHi(),fit_s.floatParsFinal().find(\"r\").getErrorLo()\n",
    "#     print fit_s.floatParsFinal().find(\"ZGammaBkgPhotonSF\").getVal(),fit_s.floatParsFinal().find(\"r\").getErrorLo(),fit_s.floatParsFinal().find(\"ZGammaBkgPhotonSF\").getErrorHi()\n",
    "#     print fit_s.floatParsFinal().find(\"WGammaBkgPhotonSF\").getVal(),fit_s.floatParsFinal().find(\"r\").getErrorLo(),fit_s.floatParsFinal().find(\"WGammaBkgPhotonSF\").getErrorHi()\n",
    "fig = plt.figure(figsize=(12, 4))\n",
    "plt.errorbar(x, y, yerr=yerrUp, fmt='o')\n",
    "plt.xticks(x, myCR)\n",
    "plt.tick_params(axis='x', which='major', labelsize=10)\n",
    "plt.xlim(1,10)\n",
    "plt.ylim(0.8,1.5)\n",
    "plt.tight_layout()\n",
    "plt.grid()\n",
    "plt.ylabel('ZJets sf for 2017')\n",
    "plt.xlabel('Jet multipicity')\n",
    "plt.title('')\n",
    "plt.show()\n",
    "fig.savefig('ZJ17.pdf', bbox_inches=\"tight\", dpi=1200)"
   ]
  },
  {
   "cell_type": "code",
   "execution_count": 24,
   "metadata": {},
   "outputs": [
    {
     "data": {
      "image/png": "[encoded data removed]",
      "text/plain": [
       "<matplotlib.figure.Figure at 0x7f16d442a5d0>"
      ]
     },
     "metadata": {},
     "output_type": "display_data"
    }
   ],
   "source": [
    "x = [2, 3, 4, 5, 6, 7, 8, 9]\n",
    "myCR = [\"N>=2,NB=0\", \"N=2,NB=0\", \"N=2,NB=1\", \"N=2,NB=2\", \"N=3,NB=0\", \"N=3,NB=1\", \"N=3,NB>=2\",\"N>=4,NB=0\"]\n",
    "\n",
    "y =[]\n",
    "yerrUp = []\n",
    "yerrDo = []\n",
    "for ifile in ListOfFiles2018:\n",
    "    myfile = ROOT.TFile(ifile,\"read\")\n",
    "    if myfile.GetListOfKeys().Contains(\"fit_s\") is False:\n",
    "        print ifile[14:-10], \": Fit failed.\"\n",
    "        continue\n",
    "    fit_s = myfile.Get(\"fit_s\")\n",
    "    y.append(fit_s.floatParsFinal().find(\"r\").getVal())\n",
    "    yerrUp.append(fit_s.floatParsFinal().find(\"r\").getErrorHi())\n",
    "    yerrDo.append(fit_s.floatParsFinal().find(\"r\").getErrorLo())\n",
    "#     print fit_s.floatParsFinal().find(\"r\").getVal(),fit_s.floatParsFinal().find(\"r\").getErrorHi(),fit_s.floatParsFinal().find(\"r\").getErrorLo()\n",
    "#     print fit_s.floatParsFinal().find(\"ZGammaBkgPhotonSF\").getVal(),fit_s.floatParsFinal().find(\"r\").getErrorLo(),fit_s.floatParsFinal().find(\"ZGammaBkgPhotonSF\").getErrorHi()\n",
    "#     print fit_s.floatParsFinal().find(\"WGammaBkgPhotonSF\").getVal(),fit_s.floatParsFinal().find(\"r\").getErrorLo(),fit_s.floatParsFinal().find(\"WGammaBkgPhotonSF\").getErrorHi()\n",
    "fig = plt.figure(figsize=(12, 4))\n",
    "plt.errorbar(x, y, yerr=yerrUp, fmt='o')\n",
    "plt.xticks(x, myCR)\n",
    "plt.tick_params(axis='x', which='major', labelsize=10)\n",
    "plt.xlim(1,10)\n",
    "plt.ylim(0.8,1.5)\n",
    "plt.tight_layout()\n",
    "plt.grid()\n",
    "plt.ylabel('Zjets sf for 2018')\n",
    "plt.xlabel('Jet multipicity')\n",
    "plt.title('')\n",
    "plt.show()\n",
    "fig.savefig('ZJ18.pdf', bbox_inches=\"tight\", dpi=1200)"
   ]
  },
  {
   "cell_type": "code",
   "execution_count": null,
   "metadata": {},
   "outputs": [],
   "source": []
  },
  {
   "cell_type": "code",
   "execution_count": null,
   "metadata": {},
   "outputs": [],
   "source": []
  },
  {
   "cell_type": "code",
   "execution_count": null,
   "metadata": {},
   "outputs": [],
   "source": []
  },
  {
   "cell_type": "code",
   "execution_count": null,
   "metadata": {},
   "outputs": [],
   "source": []
  }
 ],
 "metadata": {
  "kernelspec": {
   "display_name": "Python 2",
   "language": "python",
   "name": "python2"
  },
  "language_info": {
   "codemirror_mode": {
    "name": "ipython",
    "version": 2
   },
   "file_extension": ".py",
   "mimetype": "text/x-python",
   "name": "python",
   "nbconvert_exporter": "python",
   "pygments_lexer": "ipython2",
   "version": "2.7.14+"
  }
 },
 "nbformat": 4,
 "nbformat_minor": 2
}
